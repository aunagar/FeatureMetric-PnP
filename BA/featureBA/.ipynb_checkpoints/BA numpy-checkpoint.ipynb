{
 "cells": [
  {
   "cell_type": "code",
   "execution_count": 1,
   "metadata": {},
   "outputs": [],
   "source": [
    "from __future__ import print_function"
   ]
  },
  {
   "cell_type": "code",
   "execution_count": 2,
   "metadata": {},
   "outputs": [],
   "source": [
    "import urllib\n",
    "import bz2\n",
    "import os\n",
    "import numpy as np\n",
    "\n",
    "%matplotlib inline\n",
    "import matplotlib.pyplot as plt"
   ]
  },
  {
   "cell_type": "code",
   "execution_count": 3,
   "metadata": {},
   "outputs": [],
   "source": [
    "BASE_URL = \"http://grail.cs.washington.edu/projects/bal/data/ladybug/\"\n",
    "FILE_NAME = \"problem-49-7776-pre.txt.bz2\"\n",
    "URL = BASE_URL + FILE_NAME"
   ]
  },
  {
   "cell_type": "code",
   "execution_count": 4,
   "metadata": {},
   "outputs": [],
   "source": [
    "if not os.path.isfile(FILE_NAME):\n",
    "    urllib.request.urlretrieve(URL, FILE_NAME)"
   ]
  },
  {
   "cell_type": "code",
   "execution_count": 5,
   "metadata": {},
   "outputs": [],
   "source": [
    "def read_bal_data(file_name):\n",
    "    with bz2.open(file_name, \"rt\") as file:\n",
    "        n_cameras, n_points, n_observations = map(int, file.readline().split())\n",
    "    \n",
    "        camera_indices = np.empty(n_observations, dtype = int)\n",
    "        point_indices = np.empty(n_observations, dtype = int)\n",
    "        points_2d = np.empty((n_observations, 2))\n",
    "\n",
    "        for i in range(n_observations):\n",
    "            camera_index, point_index, x, y = file.readline().split()\n",
    "            camera_indices[i] = camera_index\n",
    "            point_indices[i] = point_index\n",
    "            points_2d[i] = [float(x), float(y)]\n",
    "\n",
    "            camera_params = np.empty(n_cameras*9)\n",
    "\n",
    "        for i in range(n_cameras*9):\n",
    "            camera_params[i] = float(file.readline())\n",
    "\n",
    "        camera_params = camera_params.reshape((n_cameras, -1))\n",
    "\n",
    "        points_3d = np.empty(n_points*3)\n",
    "\n",
    "        for i in range(n_points*3):\n",
    "            points_3d[i] = float(file.readline())\n",
    "        points_3d = points_3d.reshape((n_points, -1))\n",
    "            \n",
    "    return camera_params, points_3d, camera_indices, point_indices, points_2d"
   ]
  },
  {
   "cell_type": "code",
   "execution_count": 6,
   "metadata": {},
   "outputs": [],
   "source": [
    "camera_params, points_3d, camera_indices, point_indices, points_2d = read_bal_data(FILE_NAME)"
   ]
  },
  {
   "cell_type": "code",
   "execution_count": 7,
   "metadata": {},
   "outputs": [
    {
     "name": "stdout",
     "output_type": "stream",
     "text": [
      "n_cameras: 49\n",
      "n_points: 7776\n",
      "Total number of parameters: 23769\n",
      "Total number of residuals: 63686\n"
     ]
    }
   ],
   "source": [
    "n_cameras = camera_params.shape[0]\n",
    "n_points = points_3d.shape[0]\n",
    "\n",
    "n = 9*n_cameras + 3*n_points\n",
    "m = 2*points_2d.shape[0]\n",
    "\n",
    "print(\"n_cameras: {}\".format(n_cameras))\n",
    "print(\"n_points: {}\".format(n_points))\n",
    "print(\"Total number of parameters: {}\".format(n))\n",
    "print(\"Total number of residuals: {}\".format(m))"
   ]
  },
  {
   "cell_type": "code",
   "execution_count": 8,
   "metadata": {},
   "outputs": [],
   "source": [
    "def rotate(points, rot_vecs):\n",
    "    \n",
    "    theta = np.linalg.norm(rot_vecs, axis = 1)[:, np.newaxis]\n",
    "    with np.errstate(invalid = 'ignore'):\n",
    "        v = rot_vecs/theta\n",
    "        v = np.nan_to_num(v)\n",
    "#     print(v.shape, points.shape)\n",
    "    \n",
    "    dot = np.sum(points*v, axis = 1)[:, np.newaxis]\n",
    "    \n",
    "    cos_theta = np.cos(theta)\n",
    "    sin_theta = np.sin(theta)\n",
    "    \n",
    "    return cos_theta*points + sin_theta*np.cross(v, points) + dot*(1-cos_theta)*v"
   ]
  },
  {
   "cell_type": "code",
   "execution_count": 9,
   "metadata": {},
   "outputs": [],
   "source": [
    "def project(points, camera_params):\n",
    "    points_proj = rotate(points, camera_params[:, :3])\n",
    "    points_proj += camera_params[:, 3:6]\n",
    "    points_proj = -points_proj[:, :2]/points_proj[: , 2, np.newaxis]\n",
    "    f = camera_params[:, 6]\n",
    "    k1 = camera_params[:, 7]\n",
    "    k2 = camera_params[:, 8]\n",
    "    \n",
    "    n = np.sum(points_proj**2, axis = 1)\n",
    "    r = 1 + n*k1 + k2*n**2\n",
    "    points_proj *= (r*f)[:, np.newaxis]\n",
    "    return points_proj"
   ]
  },
  {
   "cell_type": "code",
   "execution_count": 10,
   "metadata": {},
   "outputs": [],
   "source": [
    "def fun(params, n_cameras, n_points, camera_indices, point_indices, points_2d, points_3d):\n",
    "    camera_params = params[:n_cameras*9].reshape((n_cameras, 9))\n",
    "#     points_3d = params[n_cameras*9:].reshape((n_points, 3))\n",
    "    points_proj = project(points_3d[point_indices], camera_params[camera_indices])\n",
    "    \n",
    "    return (points_proj - points_2d).ravel()"
   ]
  },
  {
   "cell_type": "code",
   "execution_count": 11,
   "metadata": {},
   "outputs": [],
   "source": [
    "from scipy.sparse import lil_matrix"
   ]
  },
  {
   "cell_type": "code",
   "execution_count": 14,
   "metadata": {},
   "outputs": [],
   "source": [
    "def bundle_adjustment_sparsity(n_cameras, n_points, camera_indices, point_indices):\n",
    "    m = camera_indices.size * 2\n",
    "#     n = n_cameras*9\n",
    "    n = n_cameras*9 + n_points*3\n",
    "    A = lil_matrix((m,n), dtype = int)\n",
    "    i = np.arange(camera_indices.size)\n",
    "    \n",
    "    for s in range(9):\n",
    "        A[2*i, camera_indices*9 + s] = 1\n",
    "        A[2*i + 1, camera_indices*9 + s] = 1\n",
    "    \n",
    "    for s in range(3):\n",
    "        A[2*i, n_cameras*9 + point_indices*3 + s] = 1\n",
    "        A[2*i + 1, n_cameras*9 + point_indices*3 + s] = 1\n",
    "    \n",
    "    return A\n"
   ]
  },
  {
   "cell_type": "code",
   "execution_count": 15,
   "metadata": {},
   "outputs": [],
   "source": [
    "x0 = np.hstack((camera_params.ravel(), points_3d.ravel()))\n",
    "# x0 = np.hstack((camera_params.ravel()))"
   ]
  },
  {
   "cell_type": "code",
   "execution_count": 16,
   "metadata": {},
   "outputs": [
    {
     "name": "stdout",
     "output_type": "stream",
     "text": [
      "(31843, 3) (31843, 3)\n"
     ]
    }
   ],
   "source": [
    "f0 = fun(x0, n_cameras, n_points, camera_indices, point_indices, points_2d, points_3d)"
   ]
  },
  {
   "cell_type": "code",
   "execution_count": 17,
   "metadata": {},
   "outputs": [],
   "source": [
    "A = bundle_adjustment_sparsity(n_cameras, n_points, camera_indices, point_indices)"
   ]
  },
  {
   "cell_type": "code",
   "execution_count": 18,
   "metadata": {},
   "outputs": [],
   "source": [
    "import time\n",
    "from scipy.optimize import least_squares"
   ]
  },
  {
   "cell_type": "code",
   "execution_count": null,
   "metadata": {},
   "outputs": [
    {
     "name": "stdout",
     "output_type": "stream",
     "text": [
      "(31843, 3) (31843, 3)\n",
      "(31843, 3) (31843, 3)\n",
      "(31843, 3) (31843, 3)\n",
      "(31843, 3) (31843, 3)\n",
      "(31843, 3) (31843, 3)\n",
      "(31843, 3) (31843, 3)\n",
      "(31843, 3) (31843, 3)\n",
      "(31843, 3) (31843, 3)\n",
      "(31843, 3) (31843, 3)\n",
      "(31843, 3) (31843, 3)\n",
      "(31843, 3) (31843, 3)\n",
      "(31843, 3) (31843, 3)\n",
      "(31843, 3) (31843, 3)\n",
      "(31843, 3) (31843, 3)\n",
      "(31843, 3) (31843, 3)\n",
      "(31843, 3) (31843, 3)\n",
      "(31843, 3) (31843, 3)\n",
      "(31843, 3) (31843, 3)\n",
      "(31843, 3) (31843, 3)\n",
      "(31843, 3) (31843, 3)\n",
      "(31843, 3) (31843, 3)\n",
      "   Iteration     Total nfev        Cost      Cost reduction    Step norm     Optimality   \n",
      "       0              1         8.5091e+05                                    8.57e+06    \n",
      "(31843, 3) (31843, 3)\n",
      "(31843, 3) (31843, 3)\n",
      "(31843, 3) (31843, 3)\n",
      "(31843, 3) (31843, 3)\n",
      "(31843, 3) (31843, 3)\n",
      "(31843, 3) (31843, 3)\n",
      "(31843, 3) (31843, 3)\n",
      "(31843, 3) (31843, 3)\n",
      "(31843, 3) (31843, 3)\n",
      "(31843, 3) (31843, 3)\n",
      "(31843, 3) (31843, 3)\n",
      "(31843, 3) (31843, 3)\n",
      "(31843, 3) (31843, 3)\n",
      "(31843, 3) (31843, 3)\n",
      "(31843, 3) (31843, 3)\n",
      "(31843, 3) (31843, 3)\n",
      "(31843, 3) (31843, 3)\n",
      "(31843, 3) (31843, 3)\n",
      "(31843, 3) (31843, 3)\n",
      "(31843, 3) (31843, 3)\n",
      "(31843, 3) (31843, 3)\n",
      "       1              2         2.8554e+04      8.22e+05       1.33e+01       4.07e+04    \n",
      "(31843, 3) (31843, 3)\n",
      "(31843, 3) (31843, 3)\n",
      "(31843, 3) (31843, 3)\n",
      "(31843, 3) (31843, 3)\n",
      "(31843, 3) (31843, 3)\n",
      "(31843, 3) (31843, 3)\n",
      "(31843, 3) (31843, 3)\n",
      "(31843, 3) (31843, 3)\n",
      "(31843, 3) (31843, 3)\n",
      "(31843, 3) (31843, 3)\n",
      "(31843, 3) (31843, 3)\n",
      "(31843, 3) (31843, 3)\n",
      "(31843, 3) (31843, 3)\n",
      "(31843, 3) (31843, 3)\n",
      "(31843, 3) (31843, 3)\n",
      "(31843, 3) (31843, 3)\n",
      "(31843, 3) (31843, 3)\n",
      "(31843, 3) (31843, 3)\n",
      "(31843, 3) (31843, 3)\n",
      "(31843, 3) (31843, 3)\n",
      "(31843, 3) (31843, 3)\n",
      "       2              3         2.8515e+04      3.93e+01       5.88e-01       4.54e+02    \n"
     ]
    }
   ],
   "source": [
    "t0 = time.time()\n",
    "res = least_squares(fun, x0, jac_sparsity=A, verbose = 2, x_scale = 'jac', ftol = 1e-4,\n",
    "                   method = 'trf', args = (n_cameras, n_points, camera_indices, point_indices,\n",
    "                                           points_2d, points_3d))\n",
    "t1 = time.time()"
   ]
  },
  {
   "cell_type": "code",
   "execution_count": 20,
   "metadata": {},
   "outputs": [
    {
     "data": {
      "text/plain": [
       "[<matplotlib.lines.Line2D at 0x7fee2743e1d0>]"
      ]
     },
     "execution_count": 20,
     "metadata": {},
     "output_type": "execute_result"
    },
    {
     "data": {
      "image/png": "[encoded data removed]",
      "text/plain": [
       "<Figure size 432x288 with 1 Axes>"
      ]
     },
     "metadata": {
      "needs_background": "light"
     },
     "output_type": "display_data"
    }
   ],
   "source": [
    "plt.plot(res.fun)"
   ]
  },
  {
   "cell_type": "code",
   "execution_count": null,
   "metadata": {},
   "outputs": [],
   "source": []
  }
 ],
 "metadata": {
  "kernelspec": {
   "display_name": "Python 3",
   "language": "python",
   "name": "python3"
  },
  "language_info": {
   "codemirror_mode": {
    "name": "ipython",
    "version": 3
   },
   "file_extension": ".py",
   "mimetype": "text/x-python",
   "name": "python",
   "nbconvert_exporter": "python",
   "pygments_lexer": "ipython3",
   "version": "3.7.4"
  }
 },
 "nbformat": 4,
 "nbformat_minor": 2
}
