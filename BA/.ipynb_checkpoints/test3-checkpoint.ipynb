{
 "cells": [
  {
   "cell_type": "code",
   "execution_count": 142,
   "metadata": {},
   "outputs": [],
   "source": [
    "from __future__ import print_function, division\n",
    "import cv2\n",
    "import torch\n",
    "import numpy as np\n",
    "import pickle\n",
    "import math"
   ]
  },
  {
   "cell_type": "code",
   "execution_count": 143,
   "metadata": {},
   "outputs": [
    {
     "name": "stdout",
     "output_type": "stream",
     "text": [
      "The autoreload extension is already loaded. To reload it, use:\n",
      "  %reload_ext autoreload\n"
     ]
    }
   ],
   "source": [
    "%load_ext autoreload\n",
    "%autoreload 2\n",
    "\n",
    "from featureBA.src.model import sparse3DBA\n",
    "from featureBA.src.utils import sobel_filter"
   ]
  },
  {
   "cell_type": "code",
   "execution_count": 144,
   "metadata": {},
   "outputs": [],
   "source": [
    "data = pickle.load(open(\"toy_example/data/toyexample_1_data.p\", 'rb'))\n",
    "img = cv2.imread(\"toy_example/data/toyexample_1.png\")"
   ]
  },
  {
   "cell_type": "code",
   "execution_count": 145,
   "metadata": {},
   "outputs": [],
   "source": [
    "T_perturbed = np.array([[math.cos(10*math.pi/180), -math.sin(10*math.pi/180), 0, 0],\n",
    "             [math.sin(10*math.pi/180), math.cos(10*math.pi/180), 0, 0],\n",
    "             [0, 0, 1, 0]])"
   ]
  },
  {
   "cell_type": "code",
   "execution_count": 146,
   "metadata": {},
   "outputs": [],
   "source": [
    "data['coords'] = np.around(data['2d_points']).astype(int) - 1"
   ]
  },
  {
   "cell_type": "code",
   "execution_count": 147,
   "metadata": {},
   "outputs": [],
   "source": [
    "P_perturbed = np.dot(data['K'], T_perturbed)\n",
    "projected_2d = np.dot(P_perturbed, np.concatenate((data['3d_points'], np.ones(len(data['3d_points']))[:, None]),-1).T)\n",
    "projected_2d = (projected_2d.T/projected_2d.T[:,2,None])[:, :2]"
   ]
  },
  {
   "cell_type": "code",
   "execution_count": 148,
   "metadata": {},
   "outputs": [],
   "source": [
    "coords_2d = np.around(projected_2d)\n",
    "coords_2d = coords_2d.astype(int) - 1"
   ]
  },
  {
   "cell_type": "code",
   "execution_count": 149,
   "metadata": {},
   "outputs": [
    {
     "name": "stdout",
     "output_type": "stream",
     "text": [
      "0 [112 128]\n",
      "1 [102 138]\n",
      "2 [70 68]\n",
      "3 [115 119]\n"
     ]
    }
   ],
   "source": [
    "img = img.astype('uint8')\n",
    "for i, p in enumerate(coords_2d):\n",
    "    print(i, p)\n",
    "    cv2.circle(img, tuple(p), 1, (128, 128, 0), -1)"
   ]
  },
  {
   "cell_type": "code",
   "execution_count": 150,
   "metadata": {},
   "outputs": [],
   "source": [
    "cv2.imshow('image',img)\n",
    "cv2.waitKey(0)\n",
    "cv2.destroyAllWindows()"
   ]
  },
  {
   "cell_type": "code",
   "execution_count": 141,
   "metadata": {},
   "outputs": [
    {
     "data": {
      "text/plain": [
       "True"
      ]
     },
     "execution_count": 141,
     "metadata": {},
     "output_type": "execute_result"
    }
   ],
   "source": [
    "cv2.imwrite('perturbed_points.png', img)"
   ]
  },
  {
   "cell_type": "markdown",
   "metadata": {},
   "source": [
    "### run BA"
   ]
  },
  {
   "cell_type": "code",
   "execution_count": 116,
   "metadata": {},
   "outputs": [
    {
     "name": "stdout",
     "output_type": "stream",
     "text": [
      "The autoreload extension is already loaded. To reload it, use:\n",
      "  %reload_ext autoreload\n"
     ]
    }
   ],
   "source": [
    "%load_ext autoreload\n",
    "%autoreload 2\n",
    "\n",
    "from featureBA.src.model2 import sparse3DBA\n",
    "from featureBA.src.utils import (from_homogeneous, to_homogeneous,\n",
    "                batched_eye_like, skew_symmetric, so3exp_map, sobel_filter, squared_loss, scaled_loss)"
   ]
  },
  {
   "cell_type": "code",
   "execution_count": 117,
   "metadata": {},
   "outputs": [],
   "source": [
    "img = cv2.imread(\"toy_example/data/toyexample_1.png\", 0)\n",
    "img = img.astype('double')"
   ]
  },
  {
   "cell_type": "code",
   "execution_count": 118,
   "metadata": {},
   "outputs": [],
   "source": [
    "img_torch = torch.from_numpy(img)[None,...]\n",
    "grad_x, grad_y = sobel_filter(img_torch)"
   ]
  },
  {
   "cell_type": "code",
   "execution_count": 135,
   "metadata": {},
   "outputs": [
    {
     "name": "stdout",
     "output_type": "stream",
     "text": [
      "0 [112 128]\n",
      "1 [102 138]\n",
      "2 [70 68]\n",
      "3 [115 119]\n"
     ]
    }
   ],
   "source": [
    "img = grad_y.numpy().reshape(img.shape).astype('uint8')\n",
    "for i, p in enumerate(coords_2d):\n",
    "    print(i, p)\n",
    "    cv2.circle(img, tuple(p), 1, (128, 128, 0), -1)\n",
    "cv2.imshow('image', img)\n",
    "cv2.waitKey(0)\n",
    "cv2.destroyAllWindows()"
   ]
  },
  {
   "cell_type": "code",
   "execution_count": 120,
   "metadata": {},
   "outputs": [
    {
     "data": {
      "text/plain": [
       "True"
      ]
     },
     "execution_count": 120,
     "metadata": {},
     "output_type": "execute_result"
    }
   ],
   "source": [
    "cv2.imwrite(\"grad_x.png\", grad_x.numpy().reshape(img.shape).astype('uint8'))\n",
    "cv2.imwrite(\"grad_y.png\", grad_y.numpy().reshape(img.shape).astype('uint8'))"
   ]
  },
  {
   "cell_type": "code",
   "execution_count": 121,
   "metadata": {},
   "outputs": [],
   "source": [
    "pts3D = torch.from_numpy(data['3d_points'][:,:3])\n",
    "ref2d = torch.from_numpy(np.flip(data['coords'], axis = 1).copy())\n",
    "feature_ref = torch.cat([img_torch[:, i, j].unsqueeze(0) for i, j in zip(ref2d[:,0], ref2d[:,1])]).type(torch.DoubleTensor)\n",
    "feature_map_query = img_torch.type(torch.DoubleTensor)\n",
    "R_init, t_init = torch.from_numpy(T_perturbed[:, :3]), torch.from_numpy(T_perturbed[:, 3])\n",
    "feature_grad_x = grad_x\n",
    "feature_grad_y = grad_y\n",
    "K = torch.from_numpy(data['K'])"
   ]
  },
  {
   "cell_type": "code",
   "execution_count": 122,
   "metadata": {},
   "outputs": [],
   "source": [
    "from __future__ import print_function, division\n",
    "\n",
    "from featureBA.src.utils import (from_homogeneous, to_homogeneous,\n",
    "                                 batched_eye_like, skew_symmetric, so3exp_map)\n",
    "\n",
    "from featureBA.src.utils import squared_loss, scaled_loss\n",
    "import torch\n",
    "from torch import nn\n",
    "import numpy as np\n",
    "\n",
    "def optimizer_step(g, H, lambda_=0):\n",
    "    \"\"\"One optimization step with Gauss-Newton or Levenberg-Marquardt.\n",
    "    Args:\n",
    "        g: batched gradient tensor of size (..., N).\n",
    "        H: batched hessian tensor of size (..., N, N).\n",
    "        lambda_: damping factor for LM (use GN if lambda_=0).\n",
    "    \"\"\"\n",
    "    if lambda_:  # LM instead of GN\n",
    "        D = (H.diagonal(dim1=-2, dim2=-1) + 1e-9).diag_embed()\n",
    "        H = H + D*lambda_\n",
    "    try:\n",
    "        P = torch.inverse(H)\n",
    "    except RuntimeError as e:\n",
    "        logging.warning(f'Determinant: {torch.det(H)}')\n",
    "        raise e\n",
    "    delta = -(P @ g[..., None])[..., 0]\n",
    "    return delta\n",
    "\n",
    "def indexing_(feature_map, points):\n",
    "    '''\n",
    "    Function gives x and y gradients for 3D points in camera frame.\n",
    "\n",
    "    inputs: (All pytorch tensors)\n",
    "    @feature_map : x gradient of the feature map (CxHxW)\n",
    "    @points : pixel coordinates of points (Nx2)\n",
    "\n",
    "    outputs: \n",
    "    features : features for the points (NxC)\n",
    "    '''\n",
    "\n",
    "    features = torch.cat([feature_map[:, i, j].unsqueeze(0) for i, j in zip(points[:,0], points[:,1])])\n",
    "\n",
    "    return features"
   ]
  },
  {
   "cell_type": "code",
   "execution_count": 18,
   "metadata": {},
   "outputs": [
    {
     "ename": "NameError",
     "evalue": "name 'squared_loss' is not defined",
     "output_type": "error",
     "traceback": [
      "\u001b[0;31m---------------------------------------------------------------------------\u001b[0m",
      "\u001b[0;31mNameError\u001b[0m                                 Traceback (most recent call last)",
      "\u001b[0;32m<ipython-input-18-f32f3ed96f0a>\u001b[0m in \u001b[0;36m<module>\u001b[0;34m\u001b[0m\n\u001b[1;32m      1\u001b[0m \u001b[0mn_iters\u001b[0m \u001b[0;34m=\u001b[0m \u001b[0;36m100\u001b[0m\u001b[0;34m\u001b[0m\u001b[0;34m\u001b[0m\u001b[0m\n\u001b[0;32m----> 2\u001b[0;31m \u001b[0mloss_fn\u001b[0m \u001b[0;34m=\u001b[0m \u001b[0msquared_loss\u001b[0m\u001b[0;34m\u001b[0m\u001b[0;34m\u001b[0m\u001b[0m\n\u001b[0m\u001b[1;32m      3\u001b[0m \u001b[0mlambda_\u001b[0m \u001b[0;34m=\u001b[0m \u001b[0;36m0.01\u001b[0m\u001b[0;34m\u001b[0m\u001b[0;34m\u001b[0m\u001b[0m\n\u001b[1;32m      4\u001b[0m \u001b[0;34m\u001b[0m\u001b[0m\n\u001b[1;32m      5\u001b[0m \u001b[0mR\u001b[0m \u001b[0;34m=\u001b[0m \u001b[0mR_init\u001b[0m\u001b[0;34m\u001b[0m\u001b[0;34m\u001b[0m\u001b[0m\n",
      "\u001b[0;31mNameError\u001b[0m: name 'squared_loss' is not defined"
     ]
    }
   ],
   "source": [
    "n_iters = 100\n",
    "loss_fn = squared_loss\n",
    "lambda_ = 0.01\n",
    "\n",
    "R = R_init\n",
    "t = t_init"
   ]
  },
  {
   "cell_type": "code",
   "execution_count": 132,
   "metadata": {},
   "outputs": [
    {
     "name": "stdout",
     "output_type": "stream",
     "text": [
      "tensor([[-10.],\n",
      "        [-26.],\n",
      "        [-52.],\n",
      "        [ -8.]], dtype=torch.float64)\n"
     ]
    }
   ],
   "source": [
    "p_3d_1 = (torch.mm(R, pts3D.T).T + t)\n",
    "p_proj_1 = torch.round(from_homogeneous(torch.mm(K, p_3d_1.T).T)).type(torch.IntTensor)-1\n",
    "error = indexing_(feature_map_query, torch.flip(p_proj_1,(1,))) - feature_ref\n",
    "print((error))"
   ]
  },
  {
   "cell_type": "code",
   "execution_count": 133,
   "metadata": {},
   "outputs": [],
   "source": [
    "error = torch.flip(p_proj_1,(1,)) - ref2d"
   ]
  },
  {
   "cell_type": "code",
   "execution_count": 134,
   "metadata": {},
   "outputs": [
    {
     "name": "stdout",
     "output_type": "stream",
     "text": [
      "0 tensor([109, 129], dtype=torch.int32)\n",
      "1 tensor([100, 139], dtype=torch.int32)\n",
      "2 tensor([54, 73], dtype=torch.int32)\n",
      "3 tensor([111, 120], dtype=torch.int32)\n"
     ]
    },
    {
     "data": {
      "text/plain": [
       "True"
      ]
     },
     "execution_count": 134,
     "metadata": {},
     "output_type": "execute_result"
    }
   ],
   "source": [
    "img = cv2.imread(\"toy_example/data/toyexample_1.png\", 0)\n",
    "img = img.astype('uint8')\n",
    "for i, p in enumerate(p_proj_1):\n",
    "    print(i, p)\n",
    "    cv2.circle(img, tuple(p.numpy()), 1, (128, 128, 0), -1)\n",
    "cv2.imshow('image',img)\n",
    "cv2.waitKey(0)\n",
    "cv2.destroyAllWindows()\n",
    "cv2.imwrite('optimized_pos.png', img)"
   ]
  },
  {
   "cell_type": "code",
   "execution_count": 634,
   "metadata": {},
   "outputs": [
    {
     "name": "stdout",
     "output_type": "stream",
     "text": [
      "tensor([[-15.,   6.]], dtype=torch.float64)\n",
      "Iter  0 130.5\n"
     ]
    }
   ],
   "source": [
    "i = 0\n",
    "verbose = 1\n",
    "p_3d_1 = torch.mm(R, pts3D.T).T + t\n",
    "p_proj_1 = torch.round(from_homogeneous(torch.mm(K, p_3d_1.T).T)).type(torch.IntTensor)-1\n",
    "# error = indexing_(feature_map_query, torch.flip(p_proj_1,(1,))) - feature_ref\n",
    "error = torch.flip(p_proj_1, (1,)) - ref2d\n",
    "error = error.type(torch.DoubleTensor)\n",
    "print(error)\n",
    "cost = 0.5*(error**2).sum(-1)\n",
    "\n",
    "if i == 0:\n",
    "    prev_cost = cost.mean(-1)\n",
    "if verbose:\n",
    "    print('Iter ', i, cost.mean().item())"
   ]
  },
  {
   "cell_type": "code",
   "execution_count": 635,
   "metadata": {},
   "outputs": [],
   "source": [
    "J_p_T = torch.cat([\n",
    "    batched_eye_like(p_3d_1, 3), -skew_symmetric(p_3d_1)], -1)"
   ]
  },
  {
   "cell_type": "code",
   "execution_count": 636,
   "metadata": {},
   "outputs": [],
   "source": [
    "shape = p_3d_1.shape[:-1]\n",
    "o, z = p_3d_1.new_ones(shape), p_3d_1.new_zeros(shape)\n",
    "J_e_p = torch.stack([\n",
    "    K[0,0]*o, z, -K[0,0]*p_3d_1[..., 0] / p_3d_1[..., 2],\n",
    "    z, K[1,1]*o, -K[1,1]*p_3d_1[..., 1] / p_3d_1[..., 2],\n",
    "], dim=-1).reshape(shape+(2, 3)) / p_3d_1[..., 2, None, None]"
   ]
  },
  {
   "cell_type": "code",
   "execution_count": 637,
   "metadata": {},
   "outputs": [],
   "source": [
    "grad_x_points = indexing_(feature_grad_x, torch.flip(p_proj_1,(1,)))\n",
    "grad_y_points = indexing_(feature_grad_y, torch.flip(p_proj_1,(1,)))\n",
    "J_p_F = torch.cat((grad_x_points[..., None], grad_y_points[...,None]), -1)"
   ]
  },
  {
   "cell_type": "code",
   "execution_count": 638,
   "metadata": {},
   "outputs": [],
   "source": [
    "J_e_T = J_p_F @ J_e_p @ J_p_T"
   ]
  },
  {
   "cell_type": "code",
   "execution_count": 639,
   "metadata": {},
   "outputs": [
    {
     "name": "stdout",
     "output_type": "stream",
     "text": [
      "tensor([[[  1.3709,   0.0000,  -5.0881, -26.1725,  73.8806,  -7.0515],\n",
      "         [  0.0000,   1.3709,  -1.9333, -14.9447,  26.1725,  18.5581]]],\n",
      "       dtype=torch.float64)\n"
     ]
    }
   ],
   "source": [
    "J_e_T = J_e_p @ J_p_T\n",
    "print(J_e_T)"
   ]
  },
  {
   "cell_type": "code",
   "execution_count": 640,
   "metadata": {},
   "outputs": [],
   "source": [
    "Grad = torch.einsum('...ijk,...ij->...ik', J_e_T, error)\n",
    "Grad = Grad.sum(-2)  # Grad was ... x N x 6"
   ]
  },
  {
   "cell_type": "code",
   "execution_count": 641,
   "metadata": {},
   "outputs": [],
   "source": [
    "J = J_e_T\n",
    "Hess = torch.einsum('...ijk,...ijl->...ikl', J, J)\n",
    "# Hess = weights[..., None, None] * Hess\n",
    "Hess = Hess.sum(-3)  # Hess was ... x N x 6 x 6"
   ]
  },
  {
   "cell_type": "code",
   "execution_count": 642,
   "metadata": {},
   "outputs": [
    {
     "data": {
      "text/plain": [
       "tensor([[79.8540],\n",
       "        [19.9733],\n",
       "        [-2.2835],\n",
       "        [ 3.3155],\n",
       "        [-0.7431],\n",
       "        [-0.4048]], dtype=torch.float64)"
      ]
     },
     "execution_count": 642,
     "metadata": {},
     "output_type": "execute_result"
    }
   ],
   "source": [
    "torch.matmul(torch.inverse(Hess), Grad[..., None])"
   ]
  },
  {
   "cell_type": "code",
   "execution_count": 643,
   "metadata": {},
   "outputs": [],
   "source": [
    "delta = -0.1*torch.matmul(torch.inverse(Hess), Grad[...,None])[..., 0]"
   ]
  },
  {
   "cell_type": "code",
   "execution_count": 644,
   "metadata": {},
   "outputs": [
    {
     "name": "stdout",
     "output_type": "stream",
     "text": [
      "dr is :  tensor([-0.3316,  0.0743,  0.0405], dtype=torch.float64)\n",
      "dt is :  tensor([-7.9854, -1.9973,  0.2284], dtype=torch.float64)\n"
     ]
    }
   ],
   "source": [
    "dt, dw = delta[..., :3], delta[..., 3:6]\n",
    "dr = so3exp_map(dw)\n",
    "print(\"dr is : \", dw)\n",
    "print(\"dt is : \", dt)\n",
    "R_new = dr @ R\n",
    "t_new = dr @ t + dt"
   ]
  },
  {
   "cell_type": "code",
   "execution_count": 630,
   "metadata": {},
   "outputs": [
    {
     "name": "stdout",
     "output_type": "stream",
     "text": [
      " R_new  tensor([[ 0.8589,  0.5121, -0.0086],\n",
      "        [-0.4722,  0.7984,  0.3737],\n",
      "        [ 0.1982, -0.3169,  0.9275]], dtype=torch.float64)\n",
      " t_new  tensor([-6.3682, -2.3256,  0.6918], dtype=torch.float64)\n",
      "R  tensor([[ 0.8271,  0.5574, -0.0721],\n",
      "        [-0.5549,  0.8302,  0.0533],\n",
      "        [ 0.0895, -0.0041,  0.9960]], dtype=torch.float64)\n",
      "t  tensor([ 1.5656, -0.5440,  0.4368], dtype=torch.float64)\n"
     ]
    }
   ],
   "source": [
    "print(\" R_new \", R_new)\n",
    "print(\" t_new \", t_new)\n",
    "print(\"R \", R)\n",
    "print(\"t \", t)"
   ]
  },
  {
   "cell_type": "code",
   "execution_count": 615,
   "metadata": {
    "scrolled": true
   },
   "outputs": [],
   "source": [
    "R, t = R_new, t_new"
   ]
  },
  {
   "cell_type": "code",
   "execution_count": 127,
   "metadata": {},
   "outputs": [],
   "source": [
    "model = sparse3DBA(n_iters = 100, lambda_ = 0.01)"
   ]
  },
  {
   "cell_type": "code",
   "execution_count": 128,
   "metadata": {},
   "outputs": [
    {
     "name": "stdout",
     "output_type": "stream",
     "text": [
      "prev cost is  tensor(26., dtype=torch.float64)\n",
      "J_p_T is  torch.Size([4, 3, 6])\n",
      "J_e_p is  torch.Size([4, 2, 3])\n",
      "dr is :  tensor([ 0.0068,  0.0010, -0.1173], dtype=torch.float64)\n",
      "dt is :  tensor([-2.2699, -0.7315,  0.0997], dtype=torch.float64)\n",
      "new cost is  tensor(19.7500, dtype=torch.float64)\n",
      "prev cost is  tensor(19.7500, dtype=torch.float64)\n",
      "J_p_T is  torch.Size([4, 3, 6])\n",
      "J_e_p is  torch.Size([4, 2, 3])\n",
      "dr is :  tensor([ 0.0128, -0.0013,  0.0386], dtype=torch.float64)\n",
      "dt is :  tensor([ 0.4302,  2.7616, -0.0147], dtype=torch.float64)\n",
      "new cost is  tensor(41.5000, dtype=torch.float64)\n",
      "cost increased, continue with next iteration\n",
      "0.01\n",
      "prev cost is  tensor(19.7500, dtype=torch.float64)\n",
      "J_p_T is  torch.Size([4, 3, 6])\n",
      "J_e_p is  torch.Size([4, 2, 3])\n",
      "dr is :  tensor([ 0.0069, -0.0028,  0.0063], dtype=torch.float64)\n",
      "dt is :  tensor([ 0.6164,  2.1770, -0.0395], dtype=torch.float64)\n",
      "new cost is  tensor(35.8750, dtype=torch.float64)\n",
      "cost increased, continue with next iteration\n",
      "0.1\n",
      "prev cost is  tensor(19.7500, dtype=torch.float64)\n",
      "J_p_T is  torch.Size([4, 3, 6])\n",
      "J_e_p is  torch.Size([4, 2, 3])\n",
      "dr is :  tensor([ 0.0032, -0.0025, -0.0311], dtype=torch.float64)\n",
      "dt is :  tensor([ 0.4398,  1.3050, -0.0400], dtype=torch.float64)\n",
      "new cost is  tensor(32.8750, dtype=torch.float64)\n",
      "cost increased, continue with next iteration\n",
      "1.0\n",
      "prev cost is  tensor(19.7500, dtype=torch.float64)\n",
      "J_p_T is  torch.Size([4, 3, 6])\n",
      "J_e_p is  torch.Size([4, 2, 3])\n",
      "dr is :  tensor([ 0.0016, -0.0010, -0.0315], dtype=torch.float64)\n",
      "dt is :  tensor([-0.0588,  0.5577, -0.0165], dtype=torch.float64)\n",
      "new cost is  tensor(25., dtype=torch.float64)\n",
      "cost increased, continue with next iteration\n",
      "10.0\n",
      "prev cost is  tensor(19.7500, dtype=torch.float64)\n",
      "J_p_T is  torch.Size([4, 3, 6])\n",
      "J_e_p is  torch.Size([4, 2, 3])\n",
      "dr is :  tensor([ 0.0004, -0.0003, -0.0078], dtype=torch.float64)\n",
      "dt is :  tensor([-0.0532,  0.1155, -0.0041], dtype=torch.float64)\n",
      "new cost is  tensor(21.3750, dtype=torch.float64)\n",
      "cost increased, continue with next iteration\n",
      "100.0\n",
      "prev cost is  tensor(19.7500, dtype=torch.float64)\n",
      "J_p_T is  torch.Size([4, 3, 6])\n",
      "J_e_p is  torch.Size([4, 2, 3])\n",
      "dr is :  tensor([ 4.5787e-05, -3.1314e-05, -9.0398e-04], dtype=torch.float64)\n",
      "dt is :  tensor([-0.0071,  0.0130, -0.0005], dtype=torch.float64)\n",
      "new cost is  tensor(19.7500, dtype=torch.float64)\n",
      "prev cost is  tensor(19.7500, dtype=torch.float64)\n",
      "J_p_T is  torch.Size([4, 3, 6])\n",
      "J_e_p is  torch.Size([4, 2, 3])\n",
      "dr is :  tensor([ 0.0004, -0.0003, -0.0078], dtype=torch.float64)\n",
      "dt is :  tensor([-0.0532,  0.1155, -0.0041], dtype=torch.float64)\n",
      "new cost is  tensor(23.2500, dtype=torch.float64)\n",
      "cost increased, continue with next iteration\n",
      "100.0\n",
      "prev cost is  tensor(19.7500, dtype=torch.float64)\n",
      "J_p_T is  torch.Size([4, 3, 6])\n",
      "J_e_p is  torch.Size([4, 2, 3])\n",
      "dr is :  tensor([ 4.5819e-05, -3.1342e-05, -9.0433e-04], dtype=torch.float64)\n",
      "dt is :  tensor([-0.0071,  0.0130, -0.0005], dtype=torch.float64)\n",
      "new cost is  tensor(19.7500, dtype=torch.float64)\n",
      "prev cost is  tensor(19.7500, dtype=torch.float64)\n",
      "J_p_T is  torch.Size([4, 3, 6])\n",
      "J_e_p is  torch.Size([4, 2, 3])\n",
      "dr is :  tensor([ 0.0004, -0.0003, -0.0078], dtype=torch.float64)\n",
      "dt is :  tensor([-0.0531,  0.1156, -0.0041], dtype=torch.float64)\n",
      "new cost is  tensor(23.2500, dtype=torch.float64)\n",
      "cost increased, continue with next iteration\n",
      "100.0\n",
      "prev cost is  tensor(19.7500, dtype=torch.float64)\n",
      "J_p_T is  torch.Size([4, 3, 6])\n",
      "J_e_p is  torch.Size([4, 2, 3])\n",
      "dr is :  tensor([ 4.5851e-05, -3.1371e-05, -9.0468e-04], dtype=torch.float64)\n",
      "dt is :  tensor([-0.0071,  0.0130, -0.0005], dtype=torch.float64)\n",
      "new cost is  tensor(19.7500, dtype=torch.float64)\n",
      "prev cost is  tensor(19.7500, dtype=torch.float64)\n",
      "J_p_T is  torch.Size([4, 3, 6])\n",
      "J_e_p is  torch.Size([4, 2, 3])\n",
      "dr is :  tensor([ 0.0004, -0.0003, -0.0078], dtype=torch.float64)\n",
      "dt is :  tensor([-0.0531,  0.1156, -0.0041], dtype=torch.float64)\n",
      "new cost is  tensor(23.2500, dtype=torch.float64)\n",
      "cost increased, continue with next iteration\n",
      "100.0\n",
      "prev cost is  tensor(19.7500, dtype=torch.float64)\n",
      "J_p_T is  torch.Size([4, 3, 6])\n",
      "J_e_p is  torch.Size([4, 2, 3])\n",
      "dr is :  tensor([ 4.5884e-05, -3.1400e-05, -9.0503e-04], dtype=torch.float64)\n",
      "dt is :  tensor([-0.0071,  0.0131, -0.0005], dtype=torch.float64)\n",
      "new cost is  tensor(21.3750, dtype=torch.float64)\n",
      "cost increased, continue with next iteration\n",
      "1000.0\n",
      "prev cost is  tensor(19.7500, dtype=torch.float64)\n",
      "J_p_T is  torch.Size([4, 3, 6])\n",
      "J_e_p is  torch.Size([4, 2, 3])\n",
      "dr is :  tensor([ 4.7081e-06, -3.2221e-06, -9.2018e-05], dtype=torch.float64)\n",
      "dt is :  tensor([-7.3283e-04,  1.3219e-03, -5.2957e-05], dtype=torch.float64)\n",
      "new cost is  tensor(19.7500, dtype=torch.float64)\n",
      "prev cost is  tensor(19.7500, dtype=torch.float64)\n",
      "J_p_T is  torch.Size([4, 3, 6])\n",
      "J_e_p is  torch.Size([4, 2, 3])\n",
      "dr is :  tensor([ 4.5887e-05, -3.1403e-05, -9.0507e-04], dtype=torch.float64)\n",
      "dt is :  tensor([-0.0071,  0.0131, -0.0005], dtype=torch.float64)\n",
      "new cost is  tensor(21.3750, dtype=torch.float64)\n",
      "cost increased, continue with next iteration\n",
      "1000.0\n",
      "prev cost is  tensor(19.7500, dtype=torch.float64)\n",
      "J_p_T is  torch.Size([4, 3, 6])\n",
      "J_e_p is  torch.Size([4, 2, 3])\n",
      "dr is :  tensor([ 4.7085e-06, -3.2224e-06, -9.2022e-05], dtype=torch.float64)\n",
      "dt is :  tensor([-7.3282e-04,  1.3220e-03, -5.2962e-05], dtype=torch.float64)\n",
      "new cost is  tensor(19.7500, dtype=torch.float64)\n",
      "prev cost is  tensor(19.7500, dtype=torch.float64)\n",
      "J_p_T is  torch.Size([4, 3, 6])\n",
      "J_e_p is  torch.Size([4, 2, 3])\n",
      "dr is :  tensor([ 4.5890e-05, -3.1406e-05, -9.0510e-04], dtype=torch.float64)\n",
      "dt is :  tensor([-0.0071,  0.0131, -0.0005], dtype=torch.float64)\n",
      "new cost is  tensor(21.3750, dtype=torch.float64)\n",
      "cost increased, continue with next iteration\n",
      "1000.0\n",
      "prev cost is  tensor(19.7500, dtype=torch.float64)\n",
      "J_p_T is  torch.Size([4, 3, 6])\n",
      "J_e_p is  torch.Size([4, 2, 3])\n",
      "dr is :  tensor([ 4.7088e-06, -3.2227e-06, -9.2025e-05], dtype=torch.float64)\n",
      "dt is :  tensor([-7.3280e-04,  1.3220e-03, -5.2967e-05], dtype=torch.float64)\n",
      "new cost is  tensor(19.7500, dtype=torch.float64)\n",
      "prev cost is  tensor(19.7500, dtype=torch.float64)\n",
      "J_p_T is  torch.Size([4, 3, 6])\n",
      "J_e_p is  torch.Size([4, 2, 3])\n",
      "dr is :  tensor([ 4.5894e-05, -3.1409e-05, -9.0514e-04], dtype=torch.float64)\n",
      "dt is :  tensor([-0.0071,  0.0131, -0.0005], dtype=torch.float64)\n",
      "new cost is  tensor(21.3750, dtype=torch.float64)\n",
      "cost increased, continue with next iteration\n",
      "1000.0\n",
      "prev cost is  tensor(19.7500, dtype=torch.float64)\n",
      "J_p_T is  torch.Size([4, 3, 6])\n",
      "J_e_p is  torch.Size([4, 2, 3])\n",
      "dr is :  tensor([ 4.7091e-06, -3.2230e-06, -9.2029e-05], dtype=torch.float64)\n",
      "dt is :  tensor([-7.3279e-04,  1.3220e-03, -5.2971e-05], dtype=torch.float64)\n",
      "new cost is  tensor(19.7500, dtype=torch.float64)\n",
      "prev cost is  tensor(19.7500, dtype=torch.float64)\n",
      "J_p_T is  torch.Size([4, 3, 6])\n",
      "J_e_p is  torch.Size([4, 2, 3])\n",
      "dr is :  tensor([ 4.5897e-05, -3.1412e-05, -9.0518e-04], dtype=torch.float64)\n",
      "dt is :  tensor([-0.0071,  0.0131, -0.0005], dtype=torch.float64)\n",
      "new cost is  tensor(21.3750, dtype=torch.float64)\n",
      "cost increased, continue with next iteration\n",
      "1000.0\n",
      "prev cost is  tensor(19.7500, dtype=torch.float64)\n",
      "J_p_T is  torch.Size([4, 3, 6])\n",
      "J_e_p is  torch.Size([4, 2, 3])\n",
      "dr is :  tensor([ 4.7095e-06, -3.2233e-06, -9.2033e-05], dtype=torch.float64)\n",
      "dt is :  tensor([-7.3278e-04,  1.3221e-03, -5.2976e-05], dtype=torch.float64)\n",
      "new cost is  tensor(19.7500, dtype=torch.float64)\n",
      "prev cost is  tensor(19.7500, dtype=torch.float64)\n",
      "J_p_T is  torch.Size([4, 3, 6])\n",
      "J_e_p is  torch.Size([4, 2, 3])\n",
      "dr is :  tensor([ 4.5900e-05, -3.1415e-05, -9.0521e-04], dtype=torch.float64)\n",
      "dt is :  tensor([-0.0071,  0.0131, -0.0005], dtype=torch.float64)\n",
      "new cost is  tensor(21.3750, dtype=torch.float64)\n",
      "cost increased, continue with next iteration\n",
      "1000.0\n",
      "prev cost is  tensor(19.7500, dtype=torch.float64)\n",
      "J_p_T is  torch.Size([4, 3, 6])\n",
      "J_e_p is  torch.Size([4, 2, 3])\n",
      "dr is :  tensor([ 4.7098e-06, -3.2236e-06, -9.2036e-05], dtype=torch.float64)\n",
      "dt is :  tensor([-7.3276e-04,  1.3221e-03, -5.2980e-05], dtype=torch.float64)\n",
      "new cost is  tensor(21.3750, dtype=torch.float64)\n",
      "cost increased, continue with next iteration\n",
      "10000.0\n",
      "prev cost is  tensor(19.7500, dtype=torch.float64)\n",
      "J_p_T is  torch.Size([4, 3, 6])\n",
      "J_e_p is  torch.Size([4, 2, 3])\n",
      "dr is :  tensor([ 4.7222e-07, -3.2321e-07, -9.2190e-06], dtype=torch.float64)\n",
      "dt is :  tensor([-7.3512e-05,  1.3238e-04, -5.3122e-06], dtype=torch.float64)\n",
      "new cost is  tensor(19.7500, dtype=torch.float64)\n",
      "prev cost is  tensor(19.7500, dtype=torch.float64)\n",
      "J_p_T is  torch.Size([4, 3, 6])\n",
      "J_e_p is  torch.Size([4, 2, 3])\n",
      "dr is :  tensor([ 4.7099e-06, -3.2236e-06, -9.2037e-05], dtype=torch.float64)\n",
      "dt is :  tensor([-7.3276e-04,  1.3221e-03, -5.2981e-05], dtype=torch.float64)\n",
      "new cost is  tensor(21.3750, dtype=torch.float64)\n",
      "cost increased, continue with next iteration\n",
      "10000.0\n",
      "prev cost is  tensor(19.7500, dtype=torch.float64)\n",
      "J_p_T is  torch.Size([4, 3, 6])\n",
      "J_e_p is  torch.Size([4, 2, 3])\n",
      "dr is :  tensor([ 4.7223e-07, -3.2321e-07, -9.2191e-06], dtype=torch.float64)\n",
      "dt is :  tensor([-7.3512e-05,  1.3238e-04, -5.3123e-06], dtype=torch.float64)\n",
      "new cost is  tensor(19.7500, dtype=torch.float64)\n",
      "prev cost is  tensor(19.7500, dtype=torch.float64)\n",
      "J_p_T is  torch.Size([4, 3, 6])\n",
      "J_e_p is  torch.Size([4, 2, 3])\n",
      "dr is :  tensor([ 4.7099e-06, -3.2237e-06, -9.2037e-05], dtype=torch.float64)\n",
      "dt is :  tensor([-7.3276e-04,  1.3221e-03, -5.2981e-05], dtype=torch.float64)\n",
      "new cost is  tensor(21.3750, dtype=torch.float64)\n",
      "cost increased, continue with next iteration\n",
      "10000.0\n",
      "prev cost is  tensor(19.7500, dtype=torch.float64)\n",
      "J_p_T is  torch.Size([4, 3, 6])\n",
      "J_e_p is  torch.Size([4, 2, 3])\n",
      "dr is :  tensor([ 4.7223e-07, -3.2322e-07, -9.2191e-06], dtype=torch.float64)\n",
      "dt is :  tensor([-7.3512e-05,  1.3238e-04, -5.3123e-06], dtype=torch.float64)\n",
      "new cost is  tensor(21.3750, dtype=torch.float64)\n",
      "cost increased, continue with next iteration\n",
      "10000.0\n",
      "prev cost is  tensor(19.7500, dtype=torch.float64)\n",
      "J_p_T is  torch.Size([4, 3, 6])\n",
      "J_e_p is  torch.Size([4, 2, 3])\n"
     ]
    },
    {
     "name": "stdout",
     "output_type": "stream",
     "text": [
      "dr is :  tensor([ 4.7223e-07, -3.2322e-07, -9.2191e-06], dtype=torch.float64)\n",
      "dt is :  tensor([-7.3512e-05,  1.3238e-04, -5.3123e-06], dtype=torch.float64)\n",
      "new cost is  tensor(21.3750, dtype=torch.float64)\n",
      "cost increased, continue with next iteration\n",
      "10000.0\n",
      "prev cost is  tensor(19.7500, dtype=torch.float64)\n",
      "J_p_T is  torch.Size([4, 3, 6])\n",
      "J_e_p is  torch.Size([4, 2, 3])\n",
      "dr is :  tensor([ 4.7223e-07, -3.2322e-07, -9.2191e-06], dtype=torch.float64)\n",
      "dt is :  tensor([-7.3512e-05,  1.3238e-04, -5.3123e-06], dtype=torch.float64)\n",
      "new cost is  tensor(21.3750, dtype=torch.float64)\n",
      "cost increased, continue with next iteration\n",
      "10000.0\n",
      "prev cost is  tensor(19.7500, dtype=torch.float64)\n",
      "J_p_T is  torch.Size([4, 3, 6])\n",
      "J_e_p is  torch.Size([4, 2, 3])\n",
      "dr is :  tensor([ 4.7223e-07, -3.2322e-07, -9.2191e-06], dtype=torch.float64)\n",
      "dt is :  tensor([-7.3512e-05,  1.3238e-04, -5.3123e-06], dtype=torch.float64)\n",
      "new cost is  tensor(21.3750, dtype=torch.float64)\n",
      "cost increased, continue with next iteration\n",
      "10000.0\n",
      "prev cost is  tensor(19.7500, dtype=torch.float64)\n",
      "J_p_T is  torch.Size([4, 3, 6])\n",
      "J_e_p is  torch.Size([4, 2, 3])\n",
      "dr is :  tensor([ 4.7223e-07, -3.2322e-07, -9.2191e-06], dtype=torch.float64)\n",
      "dt is :  tensor([-7.3512e-05,  1.3238e-04, -5.3123e-06], dtype=torch.float64)\n",
      "new cost is  tensor(21.3750, dtype=torch.float64)\n",
      "cost increased, continue with next iteration\n",
      "10000.0\n",
      "prev cost is  tensor(19.7500, dtype=torch.float64)\n",
      "J_p_T is  torch.Size([4, 3, 6])\n",
      "J_e_p is  torch.Size([4, 2, 3])\n",
      "dr is :  tensor([ 4.7223e-07, -3.2322e-07, -9.2191e-06], dtype=torch.float64)\n",
      "dt is :  tensor([-7.3512e-05,  1.3238e-04, -5.3123e-06], dtype=torch.float64)\n",
      "new cost is  tensor(21.3750, dtype=torch.float64)\n",
      "cost increased, continue with next iteration\n",
      "10000.0\n",
      "prev cost is  tensor(19.7500, dtype=torch.float64)\n",
      "J_p_T is  torch.Size([4, 3, 6])\n",
      "J_e_p is  torch.Size([4, 2, 3])\n",
      "dr is :  tensor([ 4.7223e-07, -3.2322e-07, -9.2191e-06], dtype=torch.float64)\n",
      "dt is :  tensor([-7.3512e-05,  1.3238e-04, -5.3123e-06], dtype=torch.float64)\n",
      "new cost is  tensor(21.3750, dtype=torch.float64)\n",
      "cost increased, continue with next iteration\n",
      "10000.0\n",
      "prev cost is  tensor(19.7500, dtype=torch.float64)\n",
      "J_p_T is  torch.Size([4, 3, 6])\n",
      "J_e_p is  torch.Size([4, 2, 3])\n",
      "dr is :  tensor([ 4.7223e-07, -3.2322e-07, -9.2191e-06], dtype=torch.float64)\n",
      "dt is :  tensor([-7.3512e-05,  1.3238e-04, -5.3123e-06], dtype=torch.float64)\n",
      "new cost is  tensor(21.3750, dtype=torch.float64)\n",
      "cost increased, continue with next iteration\n",
      "10000.0\n",
      "prev cost is  tensor(19.7500, dtype=torch.float64)\n",
      "J_p_T is  torch.Size([4, 3, 6])\n",
      "J_e_p is  torch.Size([4, 2, 3])\n",
      "dr is :  tensor([ 4.7223e-07, -3.2322e-07, -9.2191e-06], dtype=torch.float64)\n",
      "dt is :  tensor([-7.3512e-05,  1.3238e-04, -5.3123e-06], dtype=torch.float64)\n",
      "new cost is  tensor(21.3750, dtype=torch.float64)\n",
      "cost increased, continue with next iteration\n",
      "10000.0\n",
      "prev cost is  tensor(19.7500, dtype=torch.float64)\n",
      "J_p_T is  torch.Size([4, 3, 6])\n",
      "J_e_p is  torch.Size([4, 2, 3])\n",
      "dr is :  tensor([ 4.7223e-07, -3.2322e-07, -9.2191e-06], dtype=torch.float64)\n",
      "dt is :  tensor([-7.3512e-05,  1.3238e-04, -5.3123e-06], dtype=torch.float64)\n",
      "new cost is  tensor(21.3750, dtype=torch.float64)\n",
      "cost increased, continue with next iteration\n",
      "10000.0\n",
      "prev cost is  tensor(19.7500, dtype=torch.float64)\n",
      "J_p_T is  torch.Size([4, 3, 6])\n",
      "J_e_p is  torch.Size([4, 2, 3])\n",
      "dr is :  tensor([ 4.7223e-07, -3.2322e-07, -9.2191e-06], dtype=torch.float64)\n",
      "dt is :  tensor([-7.3512e-05,  1.3238e-04, -5.3123e-06], dtype=torch.float64)\n",
      "new cost is  tensor(21.3750, dtype=torch.float64)\n",
      "cost increased, continue with next iteration\n",
      "10000.0\n",
      "prev cost is  tensor(19.7500, dtype=torch.float64)\n",
      "J_p_T is  torch.Size([4, 3, 6])\n",
      "J_e_p is  torch.Size([4, 2, 3])\n",
      "dr is :  tensor([ 4.7223e-07, -3.2322e-07, -9.2191e-06], dtype=torch.float64)\n",
      "dt is :  tensor([-7.3512e-05,  1.3238e-04, -5.3123e-06], dtype=torch.float64)\n",
      "new cost is  tensor(21.3750, dtype=torch.float64)\n",
      "cost increased, continue with next iteration\n",
      "10000.0\n",
      "prev cost is  tensor(19.7500, dtype=torch.float64)\n",
      "J_p_T is  torch.Size([4, 3, 6])\n",
      "J_e_p is  torch.Size([4, 2, 3])\n",
      "dr is :  tensor([ 4.7223e-07, -3.2322e-07, -9.2191e-06], dtype=torch.float64)\n",
      "dt is :  tensor([-7.3512e-05,  1.3238e-04, -5.3123e-06], dtype=torch.float64)\n",
      "new cost is  tensor(21.3750, dtype=torch.float64)\n",
      "cost increased, continue with next iteration\n",
      "10000.0\n",
      "prev cost is  tensor(19.7500, dtype=torch.float64)\n",
      "J_p_T is  torch.Size([4, 3, 6])\n",
      "J_e_p is  torch.Size([4, 2, 3])\n",
      "dr is :  tensor([ 4.7223e-07, -3.2322e-07, -9.2191e-06], dtype=torch.float64)\n",
      "dt is :  tensor([-7.3512e-05,  1.3238e-04, -5.3123e-06], dtype=torch.float64)\n",
      "new cost is  tensor(21.3750, dtype=torch.float64)\n",
      "cost increased, continue with next iteration\n",
      "10000.0\n",
      "prev cost is  tensor(19.7500, dtype=torch.float64)\n",
      "J_p_T is  torch.Size([4, 3, 6])\n",
      "J_e_p is  torch.Size([4, 2, 3])\n",
      "dr is :  tensor([ 4.7223e-07, -3.2322e-07, -9.2191e-06], dtype=torch.float64)\n",
      "dt is :  tensor([-7.3512e-05,  1.3238e-04, -5.3123e-06], dtype=torch.float64)\n",
      "new cost is  tensor(21.3750, dtype=torch.float64)\n",
      "cost increased, continue with next iteration\n",
      "10000.0\n",
      "prev cost is  tensor(19.7500, dtype=torch.float64)\n",
      "J_p_T is  torch.Size([4, 3, 6])\n",
      "J_e_p is  torch.Size([4, 2, 3])\n",
      "dr is :  tensor([ 4.7223e-07, -3.2322e-07, -9.2191e-06], dtype=torch.float64)\n",
      "dt is :  tensor([-7.3512e-05,  1.3238e-04, -5.3123e-06], dtype=torch.float64)\n",
      "new cost is  tensor(21.3750, dtype=torch.float64)\n",
      "cost increased, continue with next iteration\n",
      "10000.0\n",
      "prev cost is  tensor(19.7500, dtype=torch.float64)\n",
      "J_p_T is  torch.Size([4, 3, 6])\n",
      "J_e_p is  torch.Size([4, 2, 3])\n",
      "dr is :  tensor([ 4.7223e-07, -3.2322e-07, -9.2191e-06], dtype=torch.float64)\n",
      "dt is :  tensor([-7.3512e-05,  1.3238e-04, -5.3123e-06], dtype=torch.float64)\n",
      "new cost is  tensor(21.3750, dtype=torch.float64)\n",
      "cost increased, continue with next iteration\n",
      "10000.0\n",
      "prev cost is  tensor(19.7500, dtype=torch.float64)\n",
      "J_p_T is  torch.Size([4, 3, 6])\n",
      "J_e_p is  torch.Size([4, 2, 3])\n",
      "dr is :  tensor([ 4.7223e-07, -3.2322e-07, -9.2191e-06], dtype=torch.float64)\n",
      "dt is :  tensor([-7.3512e-05,  1.3238e-04, -5.3123e-06], dtype=torch.float64)\n",
      "new cost is  tensor(21.3750, dtype=torch.float64)\n",
      "cost increased, continue with next iteration\n",
      "10000.0\n",
      "prev cost is  tensor(19.7500, dtype=torch.float64)\n",
      "J_p_T is  torch.Size([4, 3, 6])\n",
      "J_e_p is  torch.Size([4, 2, 3])\n",
      "dr is :  tensor([ 4.7223e-07, -3.2322e-07, -9.2191e-06], dtype=torch.float64)\n",
      "dt is :  tensor([-7.3512e-05,  1.3238e-04, -5.3123e-06], dtype=torch.float64)\n",
      "new cost is  tensor(21.3750, dtype=torch.float64)\n",
      "cost increased, continue with next iteration\n",
      "10000.0\n",
      "prev cost is  tensor(19.7500, dtype=torch.float64)\n",
      "J_p_T is  torch.Size([4, 3, 6])\n",
      "J_e_p is  torch.Size([4, 2, 3])\n",
      "dr is :  tensor([ 4.7223e-07, -3.2322e-07, -9.2191e-06], dtype=torch.float64)\n",
      "dt is :  tensor([-7.3512e-05,  1.3238e-04, -5.3123e-06], dtype=torch.float64)\n",
      "new cost is  tensor(21.3750, dtype=torch.float64)\n",
      "cost increased, continue with next iteration\n",
      "10000.0\n",
      "prev cost is  tensor(19.7500, dtype=torch.float64)\n",
      "J_p_T is  torch.Size([4, 3, 6])\n",
      "J_e_p is  torch.Size([4, 2, 3])\n",
      "dr is :  tensor([ 4.7223e-07, -3.2322e-07, -9.2191e-06], dtype=torch.float64)\n",
      "dt is :  tensor([-7.3512e-05,  1.3238e-04, -5.3123e-06], dtype=torch.float64)\n",
      "new cost is  tensor(21.3750, dtype=torch.float64)\n",
      "cost increased, continue with next iteration\n",
      "10000.0\n",
      "prev cost is  tensor(19.7500, dtype=torch.float64)\n",
      "J_p_T is  torch.Size([4, 3, 6])\n",
      "J_e_p is  torch.Size([4, 2, 3])\n",
      "dr is :  tensor([ 4.7223e-07, -3.2322e-07, -9.2191e-06], dtype=torch.float64)\n",
      "dt is :  tensor([-7.3512e-05,  1.3238e-04, -5.3123e-06], dtype=torch.float64)\n",
      "new cost is  tensor(21.3750, dtype=torch.float64)\n",
      "cost increased, continue with next iteration\n",
      "10000.0\n",
      "prev cost is  tensor(19.7500, dtype=torch.float64)\n",
      "J_p_T is  torch.Size([4, 3, 6])\n",
      "J_e_p is  torch.Size([4, 2, 3])\n",
      "dr is :  tensor([ 4.7223e-07, -3.2322e-07, -9.2191e-06], dtype=torch.float64)\n",
      "dt is :  tensor([-7.3512e-05,  1.3238e-04, -5.3123e-06], dtype=torch.float64)\n",
      "new cost is  tensor(21.3750, dtype=torch.float64)\n",
      "cost increased, continue with next iteration\n",
      "10000.0\n",
      "prev cost is  tensor(19.7500, dtype=torch.float64)\n",
      "J_p_T is  torch.Size([4, 3, 6])\n",
      "J_e_p is  torch.Size([4, 2, 3])\n",
      "dr is :  tensor([ 4.7223e-07, -3.2322e-07, -9.2191e-06], dtype=torch.float64)\n",
      "dt is :  tensor([-7.3512e-05,  1.3238e-04, -5.3123e-06], dtype=torch.float64)\n",
      "new cost is  tensor(21.3750, dtype=torch.float64)\n",
      "cost increased, continue with next iteration\n",
      "10000.0\n",
      "prev cost is  tensor(19.7500, dtype=torch.float64)\n",
      "J_p_T is  torch.Size([4, 3, 6])\n",
      "J_e_p is  torch.Size([4, 2, 3])\n",
      "dr is :  tensor([ 4.7223e-07, -3.2322e-07, -9.2191e-06], dtype=torch.float64)\n",
      "dt is :  tensor([-7.3512e-05,  1.3238e-04, -5.3123e-06], dtype=torch.float64)\n",
      "new cost is  tensor(21.3750, dtype=torch.float64)\n",
      "cost increased, continue with next iteration\n",
      "10000.0\n",
      "prev cost is  tensor(19.7500, dtype=torch.float64)\n",
      "J_p_T is  torch.Size([4, 3, 6])\n",
      "J_e_p is  torch.Size([4, 2, 3])\n",
      "dr is :  tensor([ 4.7223e-07, -3.2322e-07, -9.2191e-06], dtype=torch.float64)\n",
      "dt is :  tensor([-7.3512e-05,  1.3238e-04, -5.3123e-06], dtype=torch.float64)\n",
      "new cost is  tensor(21.3750, dtype=torch.float64)\n",
      "cost increased, continue with next iteration\n",
      "10000.0\n",
      "prev cost is  tensor(19.7500, dtype=torch.float64)\n",
      "J_p_T is  torch.Size([4, 3, 6])\n",
      "J_e_p is  torch.Size([4, 2, 3])\n",
      "dr is :  tensor([ 4.7223e-07, -3.2322e-07, -9.2191e-06], dtype=torch.float64)\n",
      "dt is :  tensor([-7.3512e-05,  1.3238e-04, -5.3123e-06], dtype=torch.float64)\n",
      "new cost is  tensor(21.3750, dtype=torch.float64)\n",
      "cost increased, continue with next iteration\n",
      "10000.0\n",
      "prev cost is  tensor(19.7500, dtype=torch.float64)\n",
      "J_p_T is  torch.Size([4, 3, 6])\n",
      "J_e_p is  torch.Size([4, 2, 3])\n",
      "dr is :  tensor([ 4.7223e-07, -3.2322e-07, -9.2191e-06], dtype=torch.float64)\n",
      "dt is :  tensor([-7.3512e-05,  1.3238e-04, -5.3123e-06], dtype=torch.float64)\n",
      "new cost is  tensor(21.3750, dtype=torch.float64)\n",
      "cost increased, continue with next iteration\n",
      "10000.0\n",
      "prev cost is  tensor(19.7500, dtype=torch.float64)\n",
      "J_p_T is  torch.Size([4, 3, 6])\n",
      "J_e_p is  torch.Size([4, 2, 3])\n",
      "dr is :  tensor([ 4.7223e-07, -3.2322e-07, -9.2191e-06], dtype=torch.float64)\n",
      "dt is :  tensor([-7.3512e-05,  1.3238e-04, -5.3123e-06], dtype=torch.float64)\n",
      "new cost is  tensor(21.3750, dtype=torch.float64)\n",
      "cost increased, continue with next iteration\n",
      "10000.0\n",
      "prev cost is  tensor(19.7500, dtype=torch.float64)\n",
      "J_p_T is  torch.Size([4, 3, 6])\n",
      "J_e_p is  torch.Size([4, 2, 3])\n",
      "dr is :  tensor([ 4.7223e-07, -3.2322e-07, -9.2191e-06], dtype=torch.float64)\n",
      "dt is :  tensor([-7.3512e-05,  1.3238e-04, -5.3123e-06], dtype=torch.float64)\n",
      "new cost is  tensor(21.3750, dtype=torch.float64)\n",
      "cost increased, continue with next iteration\n",
      "10000.0\n",
      "prev cost is  tensor(19.7500, dtype=torch.float64)\n",
      "J_p_T is  torch.Size([4, 3, 6])\n",
      "J_e_p is  torch.Size([4, 2, 3])\n",
      "dr is :  tensor([ 4.7223e-07, -3.2322e-07, -9.2191e-06], dtype=torch.float64)\n",
      "dt is :  tensor([-7.3512e-05,  1.3238e-04, -5.3123e-06], dtype=torch.float64)\n"
     ]
    },
    {
     "name": "stdout",
     "output_type": "stream",
     "text": [
      "new cost is  tensor(21.3750, dtype=torch.float64)\n",
      "cost increased, continue with next iteration\n",
      "10000.0\n",
      "prev cost is  tensor(19.7500, dtype=torch.float64)\n",
      "J_p_T is  torch.Size([4, 3, 6])\n",
      "J_e_p is  torch.Size([4, 2, 3])\n",
      "dr is :  tensor([ 4.7223e-07, -3.2322e-07, -9.2191e-06], dtype=torch.float64)\n",
      "dt is :  tensor([-7.3512e-05,  1.3238e-04, -5.3123e-06], dtype=torch.float64)\n",
      "new cost is  tensor(21.3750, dtype=torch.float64)\n",
      "cost increased, continue with next iteration\n",
      "10000.0\n",
      "prev cost is  tensor(19.7500, dtype=torch.float64)\n",
      "J_p_T is  torch.Size([4, 3, 6])\n",
      "J_e_p is  torch.Size([4, 2, 3])\n",
      "dr is :  tensor([ 4.7223e-07, -3.2322e-07, -9.2191e-06], dtype=torch.float64)\n",
      "dt is :  tensor([-7.3512e-05,  1.3238e-04, -5.3123e-06], dtype=torch.float64)\n",
      "new cost is  tensor(21.3750, dtype=torch.float64)\n",
      "cost increased, continue with next iteration\n",
      "10000.0\n",
      "prev cost is  tensor(19.7500, dtype=torch.float64)\n",
      "J_p_T is  torch.Size([4, 3, 6])\n",
      "J_e_p is  torch.Size([4, 2, 3])\n",
      "dr is :  tensor([ 4.7223e-07, -3.2322e-07, -9.2191e-06], dtype=torch.float64)\n",
      "dt is :  tensor([-7.3512e-05,  1.3238e-04, -5.3123e-06], dtype=torch.float64)\n",
      "new cost is  tensor(21.3750, dtype=torch.float64)\n",
      "cost increased, continue with next iteration\n",
      "10000.0\n",
      "prev cost is  tensor(19.7500, dtype=torch.float64)\n",
      "J_p_T is  torch.Size([4, 3, 6])\n",
      "J_e_p is  torch.Size([4, 2, 3])\n",
      "dr is :  tensor([ 4.7223e-07, -3.2322e-07, -9.2191e-06], dtype=torch.float64)\n",
      "dt is :  tensor([-7.3512e-05,  1.3238e-04, -5.3123e-06], dtype=torch.float64)\n",
      "new cost is  tensor(21.3750, dtype=torch.float64)\n",
      "cost increased, continue with next iteration\n",
      "10000.0\n",
      "prev cost is  tensor(19.7500, dtype=torch.float64)\n",
      "J_p_T is  torch.Size([4, 3, 6])\n",
      "J_e_p is  torch.Size([4, 2, 3])\n",
      "dr is :  tensor([ 4.7223e-07, -3.2322e-07, -9.2191e-06], dtype=torch.float64)\n",
      "dt is :  tensor([-7.3512e-05,  1.3238e-04, -5.3123e-06], dtype=torch.float64)\n",
      "new cost is  tensor(21.3750, dtype=torch.float64)\n",
      "cost increased, continue with next iteration\n",
      "10000.0\n",
      "prev cost is  tensor(19.7500, dtype=torch.float64)\n",
      "J_p_T is  torch.Size([4, 3, 6])\n",
      "J_e_p is  torch.Size([4, 2, 3])\n",
      "dr is :  tensor([ 4.7223e-07, -3.2322e-07, -9.2191e-06], dtype=torch.float64)\n",
      "dt is :  tensor([-7.3512e-05,  1.3238e-04, -5.3123e-06], dtype=torch.float64)\n",
      "new cost is  tensor(21.3750, dtype=torch.float64)\n",
      "cost increased, continue with next iteration\n",
      "10000.0\n",
      "prev cost is  tensor(19.7500, dtype=torch.float64)\n",
      "J_p_T is  torch.Size([4, 3, 6])\n",
      "J_e_p is  torch.Size([4, 2, 3])\n",
      "dr is :  tensor([ 4.7223e-07, -3.2322e-07, -9.2191e-06], dtype=torch.float64)\n",
      "dt is :  tensor([-7.3512e-05,  1.3238e-04, -5.3123e-06], dtype=torch.float64)\n",
      "new cost is  tensor(21.3750, dtype=torch.float64)\n",
      "cost increased, continue with next iteration\n",
      "10000.0\n",
      "prev cost is  tensor(19.7500, dtype=torch.float64)\n",
      "J_p_T is  torch.Size([4, 3, 6])\n",
      "J_e_p is  torch.Size([4, 2, 3])\n",
      "dr is :  tensor([ 4.7223e-07, -3.2322e-07, -9.2191e-06], dtype=torch.float64)\n",
      "dt is :  tensor([-7.3512e-05,  1.3238e-04, -5.3123e-06], dtype=torch.float64)\n",
      "new cost is  tensor(21.3750, dtype=torch.float64)\n",
      "cost increased, continue with next iteration\n",
      "10000.0\n",
      "prev cost is  tensor(19.7500, dtype=torch.float64)\n",
      "J_p_T is  torch.Size([4, 3, 6])\n",
      "J_e_p is  torch.Size([4, 2, 3])\n",
      "dr is :  tensor([ 4.7223e-07, -3.2322e-07, -9.2191e-06], dtype=torch.float64)\n",
      "dt is :  tensor([-7.3512e-05,  1.3238e-04, -5.3123e-06], dtype=torch.float64)\n",
      "new cost is  tensor(21.3750, dtype=torch.float64)\n",
      "cost increased, continue with next iteration\n",
      "10000.0\n",
      "prev cost is  tensor(19.7500, dtype=torch.float64)\n",
      "J_p_T is  torch.Size([4, 3, 6])\n",
      "J_e_p is  torch.Size([4, 2, 3])\n",
      "dr is :  tensor([ 4.7223e-07, -3.2322e-07, -9.2191e-06], dtype=torch.float64)\n",
      "dt is :  tensor([-7.3512e-05,  1.3238e-04, -5.3123e-06], dtype=torch.float64)\n",
      "new cost is  tensor(21.3750, dtype=torch.float64)\n",
      "cost increased, continue with next iteration\n",
      "10000.0\n",
      "prev cost is  tensor(19.7500, dtype=torch.float64)\n",
      "J_p_T is  torch.Size([4, 3, 6])\n",
      "J_e_p is  torch.Size([4, 2, 3])\n",
      "dr is :  tensor([ 4.7223e-07, -3.2322e-07, -9.2191e-06], dtype=torch.float64)\n",
      "dt is :  tensor([-7.3512e-05,  1.3238e-04, -5.3123e-06], dtype=torch.float64)\n",
      "new cost is  tensor(21.3750, dtype=torch.float64)\n",
      "cost increased, continue with next iteration\n",
      "10000.0\n",
      "prev cost is  tensor(19.7500, dtype=torch.float64)\n",
      "J_p_T is  torch.Size([4, 3, 6])\n",
      "J_e_p is  torch.Size([4, 2, 3])\n",
      "dr is :  tensor([ 4.7223e-07, -3.2322e-07, -9.2191e-06], dtype=torch.float64)\n",
      "dt is :  tensor([-7.3512e-05,  1.3238e-04, -5.3123e-06], dtype=torch.float64)\n",
      "new cost is  tensor(21.3750, dtype=torch.float64)\n",
      "cost increased, continue with next iteration\n",
      "10000.0\n",
      "prev cost is  tensor(19.7500, dtype=torch.float64)\n",
      "J_p_T is  torch.Size([4, 3, 6])\n",
      "J_e_p is  torch.Size([4, 2, 3])\n",
      "dr is :  tensor([ 4.7223e-07, -3.2322e-07, -9.2191e-06], dtype=torch.float64)\n",
      "dt is :  tensor([-7.3512e-05,  1.3238e-04, -5.3123e-06], dtype=torch.float64)\n",
      "new cost is  tensor(21.3750, dtype=torch.float64)\n",
      "cost increased, continue with next iteration\n",
      "10000.0\n",
      "prev cost is  tensor(19.7500, dtype=torch.float64)\n",
      "J_p_T is  torch.Size([4, 3, 6])\n",
      "J_e_p is  torch.Size([4, 2, 3])\n",
      "dr is :  tensor([ 4.7223e-07, -3.2322e-07, -9.2191e-06], dtype=torch.float64)\n",
      "dt is :  tensor([-7.3512e-05,  1.3238e-04, -5.3123e-06], dtype=torch.float64)\n",
      "new cost is  tensor(21.3750, dtype=torch.float64)\n",
      "cost increased, continue with next iteration\n",
      "10000.0\n",
      "prev cost is  tensor(19.7500, dtype=torch.float64)\n",
      "J_p_T is  torch.Size([4, 3, 6])\n",
      "J_e_p is  torch.Size([4, 2, 3])\n",
      "dr is :  tensor([ 4.7223e-07, -3.2322e-07, -9.2191e-06], dtype=torch.float64)\n",
      "dt is :  tensor([-7.3512e-05,  1.3238e-04, -5.3123e-06], dtype=torch.float64)\n",
      "new cost is  tensor(21.3750, dtype=torch.float64)\n",
      "cost increased, continue with next iteration\n",
      "10000.0\n",
      "prev cost is  tensor(19.7500, dtype=torch.float64)\n",
      "J_p_T is  torch.Size([4, 3, 6])\n",
      "J_e_p is  torch.Size([4, 2, 3])\n",
      "dr is :  tensor([ 4.7223e-07, -3.2322e-07, -9.2191e-06], dtype=torch.float64)\n",
      "dt is :  tensor([-7.3512e-05,  1.3238e-04, -5.3123e-06], dtype=torch.float64)\n",
      "new cost is  tensor(21.3750, dtype=torch.float64)\n",
      "cost increased, continue with next iteration\n",
      "10000.0\n",
      "prev cost is  tensor(19.7500, dtype=torch.float64)\n",
      "J_p_T is  torch.Size([4, 3, 6])\n",
      "J_e_p is  torch.Size([4, 2, 3])\n",
      "dr is :  tensor([ 4.7223e-07, -3.2322e-07, -9.2191e-06], dtype=torch.float64)\n",
      "dt is :  tensor([-7.3512e-05,  1.3238e-04, -5.3123e-06], dtype=torch.float64)\n",
      "new cost is  tensor(21.3750, dtype=torch.float64)\n",
      "cost increased, continue with next iteration\n",
      "10000.0\n",
      "prev cost is  tensor(19.7500, dtype=torch.float64)\n",
      "J_p_T is  torch.Size([4, 3, 6])\n",
      "J_e_p is  torch.Size([4, 2, 3])\n",
      "dr is :  tensor([ 4.7223e-07, -3.2322e-07, -9.2191e-06], dtype=torch.float64)\n",
      "dt is :  tensor([-7.3512e-05,  1.3238e-04, -5.3123e-06], dtype=torch.float64)\n",
      "new cost is  tensor(21.3750, dtype=torch.float64)\n",
      "cost increased, continue with next iteration\n",
      "10000.0\n",
      "prev cost is  tensor(19.7500, dtype=torch.float64)\n",
      "J_p_T is  torch.Size([4, 3, 6])\n",
      "J_e_p is  torch.Size([4, 2, 3])\n",
      "dr is :  tensor([ 4.7223e-07, -3.2322e-07, -9.2191e-06], dtype=torch.float64)\n",
      "dt is :  tensor([-7.3512e-05,  1.3238e-04, -5.3123e-06], dtype=torch.float64)\n",
      "new cost is  tensor(21.3750, dtype=torch.float64)\n",
      "cost increased, continue with next iteration\n",
      "10000.0\n",
      "prev cost is  tensor(19.7500, dtype=torch.float64)\n",
      "J_p_T is  torch.Size([4, 3, 6])\n",
      "J_e_p is  torch.Size([4, 2, 3])\n",
      "dr is :  tensor([ 4.7223e-07, -3.2322e-07, -9.2191e-06], dtype=torch.float64)\n",
      "dt is :  tensor([-7.3512e-05,  1.3238e-04, -5.3123e-06], dtype=torch.float64)\n",
      "new cost is  tensor(21.3750, dtype=torch.float64)\n",
      "cost increased, continue with next iteration\n",
      "10000.0\n",
      "prev cost is  tensor(19.7500, dtype=torch.float64)\n",
      "J_p_T is  torch.Size([4, 3, 6])\n",
      "J_e_p is  torch.Size([4, 2, 3])\n",
      "dr is :  tensor([ 4.7223e-07, -3.2322e-07, -9.2191e-06], dtype=torch.float64)\n",
      "dt is :  tensor([-7.3512e-05,  1.3238e-04, -5.3123e-06], dtype=torch.float64)\n",
      "new cost is  tensor(21.3750, dtype=torch.float64)\n",
      "cost increased, continue with next iteration\n",
      "10000.0\n",
      "prev cost is  tensor(19.7500, dtype=torch.float64)\n",
      "J_p_T is  torch.Size([4, 3, 6])\n",
      "J_e_p is  torch.Size([4, 2, 3])\n",
      "dr is :  tensor([ 4.7223e-07, -3.2322e-07, -9.2191e-06], dtype=torch.float64)\n",
      "dt is :  tensor([-7.3512e-05,  1.3238e-04, -5.3123e-06], dtype=torch.float64)\n",
      "new cost is  tensor(21.3750, dtype=torch.float64)\n",
      "cost increased, continue with next iteration\n",
      "10000.0\n",
      "prev cost is  tensor(19.7500, dtype=torch.float64)\n",
      "J_p_T is  torch.Size([4, 3, 6])\n",
      "J_e_p is  torch.Size([4, 2, 3])\n",
      "dr is :  tensor([ 4.7223e-07, -3.2322e-07, -9.2191e-06], dtype=torch.float64)\n"
     ]
    },
    {
     "name": "stdout",
     "output_type": "stream",
     "text": [
      "dt is :  tensor([-7.3512e-05,  1.3238e-04, -5.3123e-06], dtype=torch.float64)\n",
      "new cost is  tensor(21.3750, dtype=torch.float64)\n",
      "cost increased, continue with next iteration\n",
      "10000.0\n",
      "prev cost is  tensor(19.7500, dtype=torch.float64)\n",
      "J_p_T is  torch.Size([4, 3, 6])\n",
      "J_e_p is  torch.Size([4, 2, 3])\n",
      "dr is :  tensor([ 4.7223e-07, -3.2322e-07, -9.2191e-06], dtype=torch.float64)\n",
      "dt is :  tensor([-7.3512e-05,  1.3238e-04, -5.3123e-06], dtype=torch.float64)\n",
      "new cost is  tensor(21.3750, dtype=torch.float64)\n",
      "cost increased, continue with next iteration\n",
      "10000.0\n",
      "prev cost is  tensor(19.7500, dtype=torch.float64)\n",
      "J_p_T is  torch.Size([4, 3, 6])\n",
      "J_e_p is  torch.Size([4, 2, 3])\n",
      "dr is :  tensor([ 4.7223e-07, -3.2322e-07, -9.2191e-06], dtype=torch.float64)\n",
      "dt is :  tensor([-7.3512e-05,  1.3238e-04, -5.3123e-06], dtype=torch.float64)\n",
      "new cost is  tensor(21.3750, dtype=torch.float64)\n",
      "cost increased, continue with next iteration\n",
      "10000.0\n",
      "prev cost is  tensor(19.7500, dtype=torch.float64)\n",
      "J_p_T is  torch.Size([4, 3, 6])\n",
      "J_e_p is  torch.Size([4, 2, 3])\n",
      "dr is :  tensor([ 4.7223e-07, -3.2322e-07, -9.2191e-06], dtype=torch.float64)\n",
      "dt is :  tensor([-7.3512e-05,  1.3238e-04, -5.3123e-06], dtype=torch.float64)\n",
      "new cost is  tensor(21.3750, dtype=torch.float64)\n",
      "cost increased, continue with next iteration\n",
      "10000.0\n",
      "prev cost is  tensor(19.7500, dtype=torch.float64)\n",
      "J_p_T is  torch.Size([4, 3, 6])\n",
      "J_e_p is  torch.Size([4, 2, 3])\n",
      "dr is :  tensor([ 4.7223e-07, -3.2322e-07, -9.2191e-06], dtype=torch.float64)\n",
      "dt is :  tensor([-7.3512e-05,  1.3238e-04, -5.3123e-06], dtype=torch.float64)\n",
      "new cost is  tensor(21.3750, dtype=torch.float64)\n",
      "cost increased, continue with next iteration\n",
      "10000.0\n",
      "prev cost is  tensor(19.7500, dtype=torch.float64)\n",
      "J_p_T is  torch.Size([4, 3, 6])\n",
      "J_e_p is  torch.Size([4, 2, 3])\n",
      "dr is :  tensor([ 4.7223e-07, -3.2322e-07, -9.2191e-06], dtype=torch.float64)\n",
      "dt is :  tensor([-7.3512e-05,  1.3238e-04, -5.3123e-06], dtype=torch.float64)\n",
      "new cost is  tensor(21.3750, dtype=torch.float64)\n",
      "cost increased, continue with next iteration\n",
      "10000.0\n",
      "prev cost is  tensor(19.7500, dtype=torch.float64)\n",
      "J_p_T is  torch.Size([4, 3, 6])\n",
      "J_e_p is  torch.Size([4, 2, 3])\n",
      "dr is :  tensor([ 4.7223e-07, -3.2322e-07, -9.2191e-06], dtype=torch.float64)\n",
      "dt is :  tensor([-7.3512e-05,  1.3238e-04, -5.3123e-06], dtype=torch.float64)\n",
      "new cost is  tensor(21.3750, dtype=torch.float64)\n",
      "cost increased, continue with next iteration\n",
      "10000.0\n",
      "prev cost is  tensor(19.7500, dtype=torch.float64)\n",
      "J_p_T is  torch.Size([4, 3, 6])\n",
      "J_e_p is  torch.Size([4, 2, 3])\n",
      "dr is :  tensor([ 4.7223e-07, -3.2322e-07, -9.2191e-06], dtype=torch.float64)\n",
      "dt is :  tensor([-7.3512e-05,  1.3238e-04, -5.3123e-06], dtype=torch.float64)\n",
      "new cost is  tensor(21.3750, dtype=torch.float64)\n",
      "cost increased, continue with next iteration\n",
      "10000.0\n",
      "prev cost is  tensor(19.7500, dtype=torch.float64)\n",
      "J_p_T is  torch.Size([4, 3, 6])\n",
      "J_e_p is  torch.Size([4, 2, 3])\n",
      "dr is :  tensor([ 4.7223e-07, -3.2322e-07, -9.2191e-06], dtype=torch.float64)\n",
      "dt is :  tensor([-7.3512e-05,  1.3238e-04, -5.3123e-06], dtype=torch.float64)\n",
      "new cost is  tensor(21.3750, dtype=torch.float64)\n",
      "cost increased, continue with next iteration\n",
      "10000.0\n",
      "prev cost is  tensor(19.7500, dtype=torch.float64)\n",
      "J_p_T is  torch.Size([4, 3, 6])\n",
      "J_e_p is  torch.Size([4, 2, 3])\n",
      "dr is :  tensor([ 4.7223e-07, -3.2322e-07, -9.2191e-06], dtype=torch.float64)\n",
      "dt is :  tensor([-7.3512e-05,  1.3238e-04, -5.3123e-06], dtype=torch.float64)\n",
      "new cost is  tensor(21.3750, dtype=torch.float64)\n",
      "cost increased, continue with next iteration\n",
      "10000.0\n",
      "prev cost is  tensor(19.7500, dtype=torch.float64)\n",
      "J_p_T is  torch.Size([4, 3, 6])\n",
      "J_e_p is  torch.Size([4, 2, 3])\n",
      "dr is :  tensor([ 4.7223e-07, -3.2322e-07, -9.2191e-06], dtype=torch.float64)\n",
      "dt is :  tensor([-7.3512e-05,  1.3238e-04, -5.3123e-06], dtype=torch.float64)\n",
      "new cost is  tensor(21.3750, dtype=torch.float64)\n",
      "cost increased, continue with next iteration\n",
      "10000.0\n",
      "prev cost is  tensor(19.7500, dtype=torch.float64)\n",
      "J_p_T is  torch.Size([4, 3, 6])\n",
      "J_e_p is  torch.Size([4, 2, 3])\n",
      "dr is :  tensor([ 4.7223e-07, -3.2322e-07, -9.2191e-06], dtype=torch.float64)\n",
      "dt is :  tensor([-7.3512e-05,  1.3238e-04, -5.3123e-06], dtype=torch.float64)\n",
      "new cost is  tensor(21.3750, dtype=torch.float64)\n",
      "cost increased, continue with next iteration\n",
      "10000.0\n",
      "prev cost is  tensor(19.7500, dtype=torch.float64)\n",
      "J_p_T is  torch.Size([4, 3, 6])\n",
      "J_e_p is  torch.Size([4, 2, 3])\n",
      "dr is :  tensor([ 4.7223e-07, -3.2322e-07, -9.2191e-06], dtype=torch.float64)\n",
      "dt is :  tensor([-7.3512e-05,  1.3238e-04, -5.3123e-06], dtype=torch.float64)\n",
      "new cost is  tensor(21.3750, dtype=torch.float64)\n",
      "cost increased, continue with next iteration\n",
      "10000.0\n",
      "prev cost is  tensor(19.7500, dtype=torch.float64)\n",
      "J_p_T is  torch.Size([4, 3, 6])\n",
      "J_e_p is  torch.Size([4, 2, 3])\n",
      "dr is :  tensor([ 4.7223e-07, -3.2322e-07, -9.2191e-06], dtype=torch.float64)\n",
      "dt is :  tensor([-7.3512e-05,  1.3238e-04, -5.3123e-06], dtype=torch.float64)\n",
      "new cost is  tensor(21.3750, dtype=torch.float64)\n",
      "cost increased, continue with next iteration\n",
      "10000.0\n",
      "prev cost is  tensor(19.7500, dtype=torch.float64)\n",
      "J_p_T is  torch.Size([4, 3, 6])\n",
      "J_e_p is  torch.Size([4, 2, 3])\n",
      "dr is :  tensor([ 4.7223e-07, -3.2322e-07, -9.2191e-06], dtype=torch.float64)\n",
      "dt is :  tensor([-7.3512e-05,  1.3238e-04, -5.3123e-06], dtype=torch.float64)\n",
      "new cost is  tensor(21.3750, dtype=torch.float64)\n",
      "cost increased, continue with next iteration\n",
      "10000.0\n",
      "prev cost is  tensor(19.7500, dtype=torch.float64)\n",
      "J_p_T is  torch.Size([4, 3, 6])\n",
      "J_e_p is  torch.Size([4, 2, 3])\n",
      "dr is :  tensor([ 4.7223e-07, -3.2322e-07, -9.2191e-06], dtype=torch.float64)\n",
      "dt is :  tensor([-7.3512e-05,  1.3238e-04, -5.3123e-06], dtype=torch.float64)\n",
      "new cost is  tensor(21.3750, dtype=torch.float64)\n",
      "cost increased, continue with next iteration\n",
      "10000.0\n",
      "prev cost is  tensor(19.7500, dtype=torch.float64)\n",
      "J_p_T is  torch.Size([4, 3, 6])\n",
      "J_e_p is  torch.Size([4, 2, 3])\n",
      "dr is :  tensor([ 4.7223e-07, -3.2322e-07, -9.2191e-06], dtype=torch.float64)\n",
      "dt is :  tensor([-7.3512e-05,  1.3238e-04, -5.3123e-06], dtype=torch.float64)\n",
      "new cost is  tensor(21.3750, dtype=torch.float64)\n",
      "cost increased, continue with next iteration\n",
      "10000.0\n",
      "prev cost is  tensor(19.7500, dtype=torch.float64)\n",
      "J_p_T is  torch.Size([4, 3, 6])\n",
      "J_e_p is  torch.Size([4, 2, 3])\n",
      "dr is :  tensor([ 4.7223e-07, -3.2322e-07, -9.2191e-06], dtype=torch.float64)\n",
      "dt is :  tensor([-7.3512e-05,  1.3238e-04, -5.3123e-06], dtype=torch.float64)\n",
      "new cost is  tensor(21.3750, dtype=torch.float64)\n",
      "cost increased, continue with next iteration\n",
      "10000.0\n",
      "prev cost is  tensor(19.7500, dtype=torch.float64)\n",
      "J_p_T is  torch.Size([4, 3, 6])\n",
      "J_e_p is  torch.Size([4, 2, 3])\n",
      "dr is :  tensor([ 4.7223e-07, -3.2322e-07, -9.2191e-06], dtype=torch.float64)\n",
      "dt is :  tensor([-7.3512e-05,  1.3238e-04, -5.3123e-06], dtype=torch.float64)\n",
      "new cost is  tensor(21.3750, dtype=torch.float64)\n",
      "cost increased, continue with next iteration\n",
      "10000.0\n"
     ]
    }
   ],
   "source": [
    "R, t = model(pts3D, ref2d, feature_map_query, feature_grad_x, feature_grad_y, K, R_init, t_init)"
   ]
  },
  {
   "cell_type": "code",
   "execution_count": 129,
   "metadata": {},
   "outputs": [
    {
     "data": {
      "text/plain": [
       "tensor([[ 9.9854e-01, -5.3988e-02,  4.6671e-04],\n",
       "        [ 5.3990e-02,  9.9852e-01, -7.0458e-03],\n",
       "        [-8.5632e-05,  7.0607e-03,  9.9998e-01]], dtype=torch.float64)"
      ]
     },
     "execution_count": 129,
     "metadata": {},
     "output_type": "execute_result"
    }
   ],
   "source": [
    "R"
   ]
  },
  {
   "cell_type": "code",
   "execution_count": 130,
   "metadata": {},
   "outputs": [
    {
     "data": {
      "text/plain": [
       "tensor([[ 0.9848, -0.1736,  0.0000],\n",
       "        [ 0.1736,  0.9848,  0.0000],\n",
       "        [ 0.0000,  0.0000,  1.0000]], dtype=torch.float64)"
      ]
     },
     "execution_count": 130,
     "metadata": {},
     "output_type": "execute_result"
    }
   ],
   "source": [
    "t"
   ]
  },
  {
   "cell_type": "code",
   "execution_count": 131,
   "metadata": {},
   "outputs": [
    {
     "data": {
      "text/plain": [
       "tensor([-2.2972, -0.6782,  0.0975], dtype=torch.float64)"
      ]
     },
     "execution_count": 131,
     "metadata": {},
     "output_type": "execute_result"
    }
   ],
   "source": [
    "t"
   ]
  },
  {
   "cell_type": "code",
   "execution_count": 349,
   "metadata": {},
   "outputs": [
    {
     "data": {
      "text/plain": [
       "array([[[1.13206942, 1.11894092, 0.57274033, 1.24841041, 0.79335565,\n",
       "         0.46561771],\n",
       "        [1.2855546 , 1.19792658, 1.26153542, 1.5414339 , 1.17330447,\n",
       "         1.04735982]]])"
      ]
     },
     "execution_count": 349,
     "metadata": {},
     "output_type": "execute_result"
    }
   ],
   "source": [
    "a @ b"
   ]
  },
  {
   "cell_type": "code",
   "execution_count": null,
   "metadata": {},
   "outputs": [],
   "source": []
  }
 ],
 "metadata": {
  "kernelspec": {
   "display_name": "Python 3",
   "language": "python",
   "name": "python3"
  },
  "language_info": {
   "codemirror_mode": {
    "name": "ipython",
    "version": 3
   },
   "file_extension": ".py",
   "mimetype": "text/x-python",
   "name": "python",
   "nbconvert_exporter": "python",
   "pygments_lexer": "ipython3",
   "version": "3.7.4"
  }
 },
 "nbformat": 4,
 "nbformat_minor": 2
}
