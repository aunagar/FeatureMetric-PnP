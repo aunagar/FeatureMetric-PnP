{
 "cells": [
  {
   "cell_type": "markdown",
   "metadata": {},
   "source": [
    "# Load and Perturbe Image"
   ]
  },
  {
   "cell_type": "code",
   "execution_count": 5,
   "metadata": {},
   "outputs": [],
   "source": [
    "from __future__ import print_function, division\n",
    "import cv2\n",
    "import torch\n",
    "import numpy as np\n",
    "import pickle\n",
    "import math\n",
    "import matplotlib.pyplot as plt\n",
    "results_dir = 'results/'\n",
    "example_name = \"toyexample_6\""
   ]
  },
  {
   "cell_type": "code",
   "execution_count": 6,
   "metadata": {},
   "outputs": [
    {
     "name": "stdout",
     "output_type": "stream",
     "text": [
      "The autoreload extension is already loaded. To reload it, use:\n",
      "  %reload_ext autoreload\n"
     ]
    }
   ],
   "source": [
    "%load_ext autoreload\n",
    "%autoreload 2\n",
    "\n",
    "from .model import sparse3DBA\n",
    "from .helpers.utils import sobel_filter"
   ]
  },
  {
   "cell_type": "code",
   "execution_count": 7,
   "metadata": {},
   "outputs": [],
   "source": [
    "toy_pickle_path = \"toy_example/data/%s_data.p\" % example_name\n",
    "toy_image_path = \"toy_example/data/%s.png\" % example_name"
   ]
  },
  {
   "cell_type": "code",
   "execution_count": 8,
   "metadata": {},
   "outputs": [],
   "source": [
    "data = pickle.load(open(toy_pickle_path, 'rb'))\n",
    "img = cv2.imread(toy_image_path)"
   ]
  },
  {
   "cell_type": "code",
   "execution_count": 45,
   "metadata": {},
   "outputs": [],
   "source": [
    "#Create a 10° rotated (around z-axis) calibrated projection matrix (relative to identity)\n",
    "T_perturbed = np.array([[math.cos(10*math.pi/180), -math.sin(10*math.pi/180), 0, 0],\n",
    "             [math.sin(10*math.pi/180), math.cos(10*math.pi/180), 0, 0],\n",
    "             [0, 0, 1, 0]])"
   ]
  },
  {
   "cell_type": "code",
   "execution_count": 15,
   "metadata": {},
   "outputs": [],
   "source": [
    "data['coords'] = np.around(data['2d_points']).astype(int) - 1"
   ]
  },
  {
   "cell_type": "code",
   "execution_count": 16,
   "metadata": {},
   "outputs": [
    {
     "data": {
      "text/plain": [
       "array([[ 50.,   0., 512.],\n",
       "       [  0.,  50., 512.],\n",
       "       [  0.,   0.,   1.]])"
      ]
     },
     "execution_count": 16,
     "metadata": {},
     "output_type": "execute_result"
    }
   ],
   "source": [
    "data['K']"
   ]
  },
  {
   "cell_type": "code",
   "execution_count": 47,
   "metadata": {},
   "outputs": [],
   "source": [
    "# Camera matrix\n",
    "P_perturbed = np.dot(data['K'], T_perturbed)\n",
    "\n",
    "# Project 3D points with this new perturbed camera matrix: np.array Nx2\n",
    "projected_2d = np.dot(P_perturbed, np.concatenate((data['3d_points'], np.ones(len(data['3d_points']))[:, None]),-1).T)\n",
    "projected_2d = (projected_2d.T/projected_2d.T[:,2,None])[:, :2]"
   ]
  },
  {
   "cell_type": "code",
   "execution_count": 48,
   "metadata": {},
   "outputs": [],
   "source": [
    "# Round double coords to ints -> to use as index in matrix\n",
    "coords_2d = np.around(projected_2d)\n",
    "coords_2d = coords_2d.astype(int) - 1"
   ]
  },
  {
   "cell_type": "code",
   "execution_count": 49,
   "metadata": {},
   "outputs": [
    {
     "name": "stdout",
     "output_type": "stream",
     "text": [
      "0 [459 824]\n",
      "1 [743 513]\n",
      "2 [329 168]\n",
      "3 [873 719]\n",
      "4 [121 783]\n",
      "5 [576 335]\n",
      "6 [419  82]\n",
      "7 [398 853]\n",
      "8 [ -6 723]\n",
      "9 [757 317]\n",
      "10 [855 498]\n",
      "11 [408 666]\n",
      "12 [204 285]\n",
      "13 [189 260]\n"
     ]
    }
   ],
   "source": [
    "# Draw perturbed points into original image\n",
    "img = img.astype('uint8')\n",
    "for i, p in enumerate(coords_2d):\n",
    "    print(i, p)\n",
    "    cv2.circle(img, tuple(p), 4, (128, 128, 0), -1)"
   ]
  },
  {
   "cell_type": "code",
   "execution_count": 50,
   "metadata": {},
   "outputs": [
    {
     "data": {
      "text/plain": [
       "True"
      ]
     },
     "execution_count": 50,
     "metadata": {},
     "output_type": "execute_result"
    },
    {
     "data": {
      "image/png": "[encoded data removed]",
      "text/plain": [
       "<Figure size 432x288 with 1 Axes>"
      ]
     },
     "metadata": {
      "needs_background": "light"
     },
     "output_type": "display_data"
    }
   ],
   "source": [
    "# Show image with perturbed points + Write\n",
    "plt.imshow(img)\n",
    "cv2.imwrite(results_dir + example_name + '_perturbed_points.png', img)"
   ]
  },
  {
   "cell_type": "markdown",
   "metadata": {},
   "source": [
    "# Feature BA"
   ]
  },
  {
   "cell_type": "code",
   "execution_count": 59,
   "metadata": {},
   "outputs": [],
   "source": [
    "from .model import optimizer_step, indexing_\n",
    "\n",
    "from .helpers.utils import (from_homogeneous, to_homogeneous,\n",
    "                batched_eye_like, skew_symmetric, so3exp_map)\n",
    "\n",
    "from .helpers.utils import squared_loss, scaled_loss\n",
    "\n",
    "from torch.nn.functional import interpolate"
   ]
  },
  {
   "cell_type": "code",
   "execution_count": 60,
   "metadata": {},
   "outputs": [],
   "source": [
    "# Reload image as doubles\n",
    "data = pickle.load(open(toy_pickle_path, 'rb'))\n",
    "img = cv2.imread(toy_image_path,0)\n",
    "img = img.astype('double')"
   ]
  },
  {
   "cell_type": "code",
   "execution_count": 61,
   "metadata": {},
   "outputs": [],
   "source": [
    "# Create image tensor\n",
    "img_torch = torch.from_numpy(img)[None,...]\n",
    "\n",
    "# Convolve Sobel Filter to extract x and y gradient: 1xHxW\n",
    "grad_x, grad_y = sobel_filter(img_torch)"
   ]
  },
  {
   "cell_type": "code",
   "execution_count": 62,
   "metadata": {
    "scrolled": true
   },
   "outputs": [],
   "source": [
    "%%capture\n",
    "# Exemplary, Show perturbed points on the y-gradient of the image. Resized to 128x128\n",
    "\"\"\"\n",
    "grad_y_img = grad_y.numpy().reshape(img.shape).astype('uint8')\n",
    "for i, p in enumerate(coords_2d):\n",
    "    print(i, p)\n",
    "    cv2.circle(grad_y_img, tuple(p), 1, (128, 128, 0), -1)\n",
    "plt.imshow(grad_y_img)\n",
    "cv2.imwrite(results_dir+example_name + \"_grad_x.png\", grad_x.numpy().reshape(img.shape).astype('uint8'))\n",
    "cv2.imwrite(results_dir+example_name + \"_grad_y.png\", grad_y.numpy().reshape(img.shape).astype('uint8'))\n",
    "\"\"\""
   ]
  },
  {
   "cell_type": "code",
   "execution_count": 63,
   "metadata": {},
   "outputs": [
    {
     "name": "stdout",
     "output_type": "stream",
     "text": [
      "[[ 0.99756405 -0.06975647  0.          0.        ]\n",
      " [ 0.06975647  0.99756405  0.          0.        ]\n",
      " [ 0.          0.          1.         -0.1       ]]\n"
     ]
    }
   ],
   "source": [
    "#Create a 10° rotated (around z-axis) calibrated projection matrix (relative to identity)\n",
    "\n",
    "angle = 4\n",
    "\n",
    "offset_x = 0\n",
    "offset_y = 0\n",
    "offset_z = -0.1\n",
    "T_perturbed = np.array([[math.cos(angle*math.pi/180), -math.sin(angle*math.pi/180), 0,offset_x],\n",
    "             [math.sin(angle*math.pi/180), math.cos(angle*math.pi/180), 0, offset_y],\n",
    "             [0, 0, 1, offset_z]])\n",
    "print(T_perturbed)"
   ]
  },
  {
   "cell_type": "code",
   "execution_count": 64,
   "metadata": {},
   "outputs": [],
   "source": [
    "data['coords'] = np.around(data['2d_points']).astype(int) - 1"
   ]
  },
  {
   "cell_type": "code",
   "execution_count": 65,
   "metadata": {},
   "outputs": [],
   "source": [
    "# Camera matrix\n",
    "P_perturbed = np.dot(data['K'], T_perturbed)\n",
    "\n",
    "# Project 3D points with this new perturbed camera matrix: np.array Nx2\n",
    "projected_2d = np.dot(P_perturbed, np.concatenate((data['3d_points'], np.ones(len(data['3d_points']))[:, None]),-1).T)\n",
    "projected_2d = (projected_2d.T/projected_2d.T[:,2,None])[:, :2]"
   ]
  },
  {
   "cell_type": "code",
   "execution_count": 82,
   "metadata": {},
   "outputs": [
    {
     "data": {
      "text/plain": [
       "torch.Size([1, 128, 128])"
      ]
     },
     "execution_count": 82,
     "metadata": {},
     "output_type": "execute_result"
    }
   ],
   "source": [
    "# Define image size\n",
    "im_height, im_width = img.shape\n",
    "# Load 3D Points\n",
    "pts3D = torch.from_numpy(data['3d_points'][:,:3])\n",
    "# Load 2D Points in reference image: [[x1,y1], ....]\n",
    "ref2d = torch.from_numpy(np.flip(data['coords'], axis = 1).copy())\n",
    "# 2D Tensor with intensity at reference feature pixel (= center of gaussian = 255)-> [[255],[255], ...] NFx1\n",
    "feature_ref = torch.cat([img_torch[:, i, j].unsqueeze(0) for i, j in zip(ref2d[:,0], ref2d[:,1])]).type(torch.DoubleTensor)\n",
    "feature_map_query = img_torch.type(torch.DoubleTensor)\n",
    "\n",
    "#Load initial rotation and translation for query image (=perturbed image)\n",
    "R_init, t_init = torch.from_numpy(T_perturbed[:, :3]), torch.from_numpy(T_perturbed[:, 3])\n",
    "feature_grad_x = grad_x\n",
    "feature_grad_y = grad_y\n",
    "\n",
    "# Camera intrinsics tensor 3x3\n",
    "K = torch.from_numpy(data['K'])\n",
    "\n",
    "\n",
    "hypercolumn_size = (128,128)\n",
    "#Test: Downsample feature by 8x8 using bilinear\n",
    "feature_map_query = interpolate(feature_map_query.unsqueeze(0), size=hypercolumn_size,\n",
    "                                    mode = 'bilinear').squeeze(0) #interpolate needs 4D tensor, I add batch dimension\n",
    "feature_grad_x = interpolate(feature_grad_x.unsqueeze(0), size=hypercolumn_size,\n",
    "                                    mode = 'bilinear').squeeze(0)\n",
    "feature_grad_y = interpolate(feature_grad_y.unsqueeze(0), size=hypercolumn_size,\n",
    "                                    mode = 'bilinear').squeeze(0)\n",
    "\n",
    "feature_map_query.shape"
   ]
  },
  {
   "cell_type": "code",
   "execution_count": 75,
   "metadata": {},
   "outputs": [],
   "source": [
    "# Set runtime parameters\n",
    "n_iters = 50\n",
    "lambda_ = 0.01 # regularization\n",
    "verbose=False"
   ]
  },
  {
   "cell_type": "code",
   "execution_count": null,
   "metadata": {
    "scrolled": false
   },
   "outputs": [],
   "source": []
  },
  {
   "cell_type": "code",
   "execution_count": 76,
   "metadata": {},
   "outputs": [],
   "source": [
    "# Load actual model\n",
    "model = sparse3DBA(n_iters = n_iters, lambda_ = lambda_, verbose=verbose)"
   ]
  },
  {
   "cell_type": "code",
   "execution_count": 77,
   "metadata": {},
   "outputs": [
    {
     "name": "stdout",
     "output_type": "stream",
     "text": [
      "cost increased, continue with next iteration\n",
      "cost increased, continue with next iteration\n",
      "cost increased, continue with next iteration\n",
      "cost increased, continue with next iteration\n",
      "cost increased, continue with next iteration\n",
      "cost increased, continue with next iteration\n",
      "cost increased, continue with next iteration\n",
      "cost increased, continue with next iteration\n",
      "cost increased, continue with next iteration\n",
      "cost increased, continue with next iteration\n",
      "cost increased, continue with next iteration\n",
      "cost increased, continue with next iteration\n",
      "cost increased, continue with next iteration\n",
      "cost increased, continue with next iteration\n",
      "cost increased, continue with next iteration\n",
      "cost increased, continue with next iteration\n",
      "cost increased, continue with next iteration\n"
     ]
    }
   ],
   "source": [
    "# Run the model -> this calls the forward method of model\n",
    "R, t = model(pts3D, feature_ref, feature_map_query, feature_grad_x, feature_grad_y, K, im_width, im_height, R_init=R_init, \\\n",
    "             t_init= t_init, track = True)"
   ]
  },
  {
   "cell_type": "code",
   "execution_count": 78,
   "metadata": {},
   "outputs": [],
   "source": [
    "cost_list = model.track_[\"costs\"]\n",
    "point_list = torch.stack(model.track_[\"points2d\"])\n",
    "R_list = model.track_[\"Rs\"]\n",
    "t_list = model.track_[\"ts\"]"
   ]
  },
  {
   "cell_type": "markdown",
   "metadata": {},
   "source": [
    "# Visualization"
   ]
  },
  {
   "cell_type": "code",
   "execution_count": 79,
   "metadata": {},
   "outputs": [],
   "source": [
    "import visualization.plot_3d_tools as plot_3d"
   ]
  },
  {
   "cell_type": "code",
   "execution_count": 80,
   "metadata": {},
   "outputs": [
    {
     "name": "stdout",
     "output_type": "stream",
     "text": [
      "27497.41105769231\n",
      "276.125\n",
      "tensor([[ 9.9999e-01, -4.3819e-03,  5.5901e-04],\n",
      "        [ 4.3822e-03,  9.9999e-01, -4.2733e-04],\n",
      "        [-5.5713e-04,  4.2977e-04,  1.0000e+00]], dtype=torch.float64)\n",
      "tensor([-0.0401, -0.0690, -0.0245], dtype=torch.float64)\n"
     ]
    }
   ],
   "source": [
    "# get final cost to see if visualization makes sense (Should be really low)\n",
    "print(cost_list[0])\n",
    "print(cost_list[-1])\n",
    "print(R)\n",
    "print(t)"
   ]
  },
  {
   "cell_type": "code",
   "execution_count": 195,
   "metadata": {},
   "outputs": [],
   "source": [
    "%%capture\n",
    "# Create a list of images, size Hx2*W\n",
    "# Takes some time (~ half a minute with n_iters=100 and image size 1024x1024)\n",
    "# Change DPI and draw parameters(radius, thickness) as you like\n",
    "my_dpi = 160 #For plotting, change this as you like, 160 works good for 1024x1024\n",
    "\n",
    "# Create base-image im RGB\n",
    "rgb_img = cv2.cvtColor(img.astype('uint8').copy(),cv2.COLOR_GRAY2RGB)\n",
    "height, width, layers = rgb_img.shape\n",
    "\n",
    "# Set of 2D points: n_iters+1 x N x 2\n",
    "pts = np.array(point_list,dtype=np.int32)\n",
    "img_list=[]\n",
    "for i in range(n_iters +1):\n",
    "    # Create a copy of base image to work on\n",
    "    img_int = rgb_img.copy()\n",
    "    \n",
    "    label = \"Cost: %f\" % cost_list[i]\n",
    "    \n",
    "    # Create cost plot (you can add any measure vs. iteration you like here, e.g. the error of a specific feature)\n",
    "    fig, ax= plt.subplots(1,1,figsize=(width/my_dpi, height/my_dpi), dpi=my_dpi)\n",
    "    ax.plot(range(i+1),np.array(cost_list[:i+1]), color = \"red\")\n",
    "    ax.set_xlim([0,n_iters+1])\n",
    "    ax.set_title(\"Cost vs. Iterations\")\n",
    "    ax.set_xlabel(\"Iterations\")\n",
    "    ax.set_ylabel(\"Cost (mean)\")\n",
    "    ax.set_ylim([0,max(cost_list)*1.1])\n",
    "    # Convert image to an array so we can concatenate with our image\n",
    "    fig_data = plot_3d.fig2data(fig)\n",
    "    \n",
    "    # For every 2D point in our image\n",
    "    for j, p in enumerate(coords_2d):\n",
    "        # Draw past line\n",
    "        cv2.polylines(img_int, np.int32([pts[:i+1,j,:]]), False, (0,0,255), 1)\n",
    "        # Draw start point\n",
    "        cv2.circle(img_int, tuple(pts[0,j,:]), 4, (0,255,0), -1) \n",
    "        # Draw current point\n",
    "        cv2.circle(img_int, tuple(pts[i,j,:]), 4, (0,0,255), -1) \n",
    "        # Draw Label\n",
    "        cv2.putText(img_int, label, (20,20), cv2.FONT_HERSHEY_PLAIN, 1, (0,0,255), 2)\n",
    "    \n",
    "    # Append image list\n",
    "    img_list.append(np.concatenate((img_int,fig_data), axis=1))"
   ]
  },
  {
   "cell_type": "code",
   "execution_count": 206,
   "metadata": {},
   "outputs": [],
   "source": [
    "# Create video out of image list\n",
    "height, width, layers = img_list[0].shape\n",
    "#framerate (frames/second)\n",
    "fr = 2\n",
    "video= cv2.VideoWriter(results_dir + example_name + \"_video.mp4\", cv2.VideoWriter_fourcc(*'mp4v'), 2, (width,height))\n",
    "for image in img_list:\n",
    "    video.write(image)\n",
    "video.release()"
   ]
  },
  {
   "cell_type": "code",
   "execution_count": 163,
   "metadata": {
    "scrolled": false
   },
   "outputs": [
    {
     "data": {
      "image/png": "[encoded data removed]",
      "text/plain": [
       "<Figure size 576x576 with 1 Axes>"
      ]
     },
     "metadata": {
      "needs_background": "light"
     },
     "output_type": "display_data"
    }
   ],
   "source": [
    "# Visualize camera pose  in 3D (example)\n",
    "\n",
    "\n",
    "fig = plt.figure(figsize=(8,8))\n",
    "ax = fig.add_subplot(111, projection='3d')\n",
    "\n",
    "# Draw Coordinate frame\n",
    "plot_3d.plot_coordinate_system(ax, size = (0.5,0.5,0.5))\n",
    "\n",
    "# Plot initial camera pose (green pyramid)\n",
    "plot_3d.plot_camera(ax,R_init.numpy(),t_init.numpy(), edgecolor=\"g\", facecolor=None, alph=0.05)\n",
    "\n",
    "# Plot final camera pose (red pyramid)\n",
    "plot_3d.plot_camera(ax,R.numpy(),t.numpy(), edgecolor=\"r\", facecolor=\"r\", alph=0.05)\n",
    "\n",
    "# Adjust Angle of 3D plot view\n",
    "ax.view_init(elev=-65, azim=-90)\n",
    "\n",
    "ax.set_xlim(-0.5, 0.5)\n",
    "ax.set_ylim(-0.5, 0.5)\n",
    "ax.set_zlim(-0.2, 1)\n",
    "fig.subplots_adjust(left=0, right=1, bottom=0, top=1)\n",
    "\n",
    "# ToDo: Scatter the 3D points in this plot\n",
    "\n",
    "# Show Plot\n",
    "plt.show()"
   ]
  },
  {
   "cell_type": "code",
   "execution_count": 205,
   "metadata": {},
   "outputs": [],
   "source": [
    "%%capture\n",
    "# Create a list of images, size (H+cost_plot_height)x2*W\n",
    "# Takes some time (~ half a minute with n_iters=100 and image size 1024x1024)\n",
    "# Change DPI and draw parameters(radius, thickness) as you like\n",
    "my_dpi = 160 #For plotting, change this as you like, 160 works good for 1024x1024\n",
    "\n",
    "# Create base-image im RGB\n",
    "rgb_img = cv2.cvtColor(img.astype('uint8').copy(),cv2.COLOR_GRAY2RGB)\n",
    "height, width, layers = rgb_img.shape\n",
    " \n",
    "cost_plot_height = 300\n",
    "\n",
    "# Set of 2D points: n_iters+1 x N x 2\n",
    "pts = np.array(point_list,dtype=np.int32)\n",
    "img_list=[]\n",
    "for i in range(n_iters+1):\n",
    "    # Create a copy of base image to work on\n",
    "    img_int = rgb_img.copy()\n",
    "    \n",
    "    label = \"Cost: %f\" % cost_list[i]\n",
    "    \n",
    "    # Create cost plot (top, you can add any measure vs. iteration you like here, e.g. the error of a specific feature)\n",
    "    fig, ax= plt.subplots(1,1,figsize=(width*2/my_dpi, cost_plot_height/my_dpi), dpi=my_dpi)\n",
    "    ax.plot(range(i+1),np.array(cost_list[:i+1]), color = \"red\")\n",
    "    ax.set_xlim([0,n_iters+1])\n",
    "    ax.set_title(\"Cost vs. Iterations\")\n",
    "    ax.set_xlabel(\"Iterations\")\n",
    "    ax.set_ylabel(\"Cost (mean)\")\n",
    "    ax.set_ylim([0,max(cost_list)*1.1])\n",
    "    cost_fig_data = plot_3d.fig2data(fig)\n",
    "    plt.tight_layout()\n",
    "    \n",
    "    \n",
    "    # Visualize camera pose  in 3D (example) (right)\n",
    "    fig = plt.figure(figsize=(width/my_dpi, height/my_dpi), dpi=my_dpi)\n",
    "    ax = fig.add_subplot(111, projection='3d')\n",
    "    # Draw Coordinate frame\n",
    "    plot_3d.plot_coordinate_system(ax, size = (0.5,0.5,0.5))\n",
    "    # Plot initial camera pose (green pyramid)\n",
    "    # Swap to R_init, t_init if you want initial pose\n",
    "    plot_3d.plot_camera(ax,R.numpy(),t.numpy(), edgecolor=\"g\", facecolor=None, alph=0.05) \n",
    "    # Plot final camera pose (red pyramid)\n",
    "    plot_3d.plot_camera(ax,R_list[i].numpy(),t_list[i].numpy(), edgecolor=\"r\", facecolor=\"r\", alph=0.05)\n",
    "    # Adjust Angle of 3D plot view\n",
    "    ax.view_init(elev=-65, azim=-90)\n",
    "    ax.set_xlim(-1, 1)\n",
    "    ax.set_ylim(-1, 1)\n",
    "    ax.set_zlim(-0.2, 1)\n",
    "    #Remove Whitespace\n",
    "    fig.subplots_adjust(left=-0.2, right=1.2, bottom=0, top=1)\n",
    "    # Convert image to an array so we can concatenate with our image\n",
    "    fig_data = plot_3d.fig2data(fig)\n",
    "    \n",
    "    # For every 2D point in our image (left)\n",
    "    for j, p in enumerate(coords_2d):\n",
    "        # Draw past line\n",
    "        cv2.polylines(img_int, np.int32([pts[:i+1,j,:]]), False, (0,0,255), 1)\n",
    "        # Draw start point\n",
    "        cv2.circle(img_int, tuple(pts[0,j,:]), 4, (0,255,0), -1) \n",
    "        # Draw current point\n",
    "        cv2.circle(img_int, tuple(pts[i,j,:]), 4, (0,0,255), -1) \n",
    "        # Draw Label\n",
    "        cv2.putText(img_int, label, (20,20), cv2.FONT_HERSHEY_PLAIN, 1, (0,0,255), 2)\n",
    "    \n",
    "    # Append image list\n",
    "    lower_ims = np.concatenate((img_int,fig_data), axis=1)\n",
    "    print(lower_ims.shape)\n",
    "    img_list.append(np.concatenate((cost_fig_data,lower_ims), axis=0))"
   ]
  },
  {
   "cell_type": "code",
   "execution_count": 201,
   "metadata": {},
   "outputs": [
    {
     "data": {
      "text/plain": [
       "<matplotlib.image.AxesImage at 0x7fba7b3bdb38>"
      ]
     },
     "execution_count": 201,
     "metadata": {},
     "output_type": "execute_result"
    },
    {
     "data": {
      "image/png": "[encoded data removed]",
      "text/plain": [
       "<Figure size 432x288 with 1 Axes>"
      ]
     },
     "metadata": {
      "needs_background": "light"
     },
     "output_type": "display_data"
    }
   ],
   "source": [
    "plt.imshow(img_list[0])"
   ]
  },
  {
   "cell_type": "code",
   "execution_count": null,
   "metadata": {},
   "outputs": [],
   "source": [
    "new_proj_1[mask,:]\n"
   ]
  },
  {
   "cell_type": "code",
   "execution_count": null,
   "metadata": {},
   "outputs": [],
   "source": []
  }
 ],
 "metadata": {
  "kernelspec": {
   "display_name": "Python 3",
   "language": "python",
   "name": "python3"
  },
  "language_info": {
   "codemirror_mode": {
    "name": "ipython",
    "version": 3
   },
   "file_extension": ".py",
   "mimetype": "text/x-python",
   "name": "python",
   "nbconvert_exporter": "python",
   "pygments_lexer": "ipython3",
   "version": "3.7.4"
  }
 },
 "nbformat": 4,
 "nbformat_minor": 4
}